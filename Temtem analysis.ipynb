{
 "cells": [
  {
   "cell_type": "code",
   "execution_count": 33,
   "metadata": {},
   "outputs": [],
   "source": [
    "#import pandas\n",
    "import pandas as pd \n",
    "from matplotlib import pyplot as plt\n",
    "import plotly.express as px"
   ]
  },
  {
   "cell_type": "code",
   "execution_count": 2,
   "metadata": {},
   "outputs": [],
   "source": [
    "#url of the data to be scraped\n",
    "url = 'https://temtem.gamepedia.com/Temtem_Species'"
   ]
  },
  {
   "cell_type": "code",
   "execution_count": 3,
   "metadata": {},
   "outputs": [],
   "source": [
    "#scrape the data\n",
    "tables = pd.read_html(url)"
   ]
  },
  {
   "cell_type": "code",
   "execution_count": 4,
   "metadata": {},
   "outputs": [],
   "source": [
    "#pull the dataframe we want\n",
    "df = tables[1]"
   ]
  },
  {
   "cell_type": "code",
   "execution_count": 5,
   "metadata": {},
   "outputs": [
    {
     "data": {
      "text/html": [
       "<div>\n",
       "<style scoped>\n",
       "    .dataframe tbody tr th:only-of-type {\n",
       "        vertical-align: middle;\n",
       "    }\n",
       "\n",
       "    .dataframe tbody tr th {\n",
       "        vertical-align: top;\n",
       "    }\n",
       "\n",
       "    .dataframe thead tr th {\n",
       "        text-align: left;\n",
       "    }\n",
       "</style>\n",
       "<table border=\"1\" class=\"dataframe\">\n",
       "  <thead>\n",
       "    <tr>\n",
       "      <th></th>\n",
       "      <th>No.</th>\n",
       "      <th>Temtem</th>\n",
       "      <th colspan=\"2\" halign=\"left\">Type(s)</th>\n",
       "      <th colspan=\"8\" halign=\"left\">Base Stats</th>\n",
       "    </tr>\n",
       "    <tr>\n",
       "      <th></th>\n",
       "      <th>No.</th>\n",
       "      <th>Temtem</th>\n",
       "      <th>1</th>\n",
       "      <th>2</th>\n",
       "      <th>HP</th>\n",
       "      <th>STA</th>\n",
       "      <th>SPD</th>\n",
       "      <th>ATK</th>\n",
       "      <th>DEF</th>\n",
       "      <th>SPATK</th>\n",
       "      <th>SPDEF</th>\n",
       "      <th>Total</th>\n",
       "    </tr>\n",
       "  </thead>\n",
       "  <tbody>\n",
       "    <tr>\n",
       "      <td>0</td>\n",
       "      <td>2</td>\n",
       "      <td>Oree</td>\n",
       "      <td>Digital</td>\n",
       "      <td>Digital</td>\n",
       "      <td>61</td>\n",
       "      <td>74</td>\n",
       "      <td>35</td>\n",
       "      <td>65</td>\n",
       "      <td>44</td>\n",
       "      <td>32</td>\n",
       "      <td>31</td>\n",
       "      <td>342</td>\n",
       "    </tr>\n",
       "    <tr>\n",
       "      <td>1</td>\n",
       "      <td>3</td>\n",
       "      <td>Zaobian</td>\n",
       "      <td>Digital</td>\n",
       "      <td>Digital</td>\n",
       "      <td>75</td>\n",
       "      <td>90</td>\n",
       "      <td>51</td>\n",
       "      <td>84</td>\n",
       "      <td>50</td>\n",
       "      <td>42</td>\n",
       "      <td>44</td>\n",
       "      <td>436</td>\n",
       "    </tr>\n",
       "    <tr>\n",
       "      <td>2</td>\n",
       "      <td>7</td>\n",
       "      <td>Platypet</td>\n",
       "      <td>Water</td>\n",
       "      <td>Toxic</td>\n",
       "      <td>55</td>\n",
       "      <td>39</td>\n",
       "      <td>65</td>\n",
       "      <td>45</td>\n",
       "      <td>31</td>\n",
       "      <td>67</td>\n",
       "      <td>56</td>\n",
       "      <td>358</td>\n",
       "    </tr>\n",
       "    <tr>\n",
       "      <td>3</td>\n",
       "      <td>8</td>\n",
       "      <td>Platox</td>\n",
       "      <td>Water</td>\n",
       "      <td>Toxic</td>\n",
       "      <td>62</td>\n",
       "      <td>44</td>\n",
       "      <td>74</td>\n",
       "      <td>50</td>\n",
       "      <td>35</td>\n",
       "      <td>76</td>\n",
       "      <td>63</td>\n",
       "      <td>404</td>\n",
       "    </tr>\n",
       "    <tr>\n",
       "      <td>4</td>\n",
       "      <td>9</td>\n",
       "      <td>Platimous</td>\n",
       "      <td>Water</td>\n",
       "      <td>Toxic</td>\n",
       "      <td>71</td>\n",
       "      <td>49</td>\n",
       "      <td>82</td>\n",
       "      <td>56</td>\n",
       "      <td>39</td>\n",
       "      <td>90</td>\n",
       "      <td>70</td>\n",
       "      <td>457</td>\n",
       "    </tr>\n",
       "    <tr>\n",
       "      <td>5</td>\n",
       "      <td>10</td>\n",
       "      <td>Swali</td>\n",
       "      <td>Nature</td>\n",
       "      <td>Nature</td>\n",
       "      <td>44</td>\n",
       "      <td>65</td>\n",
       "      <td>35</td>\n",
       "      <td>50</td>\n",
       "      <td>40</td>\n",
       "      <td>55</td>\n",
       "      <td>60</td>\n",
       "      <td>349</td>\n",
       "    </tr>\n",
       "    <tr>\n",
       "      <td>6</td>\n",
       "      <td>11</td>\n",
       "      <td>Loali</td>\n",
       "      <td>Nature</td>\n",
       "      <td>Wind</td>\n",
       "      <td>55</td>\n",
       "      <td>80</td>\n",
       "      <td>80</td>\n",
       "      <td>60</td>\n",
       "      <td>50</td>\n",
       "      <td>70</td>\n",
       "      <td>90</td>\n",
       "      <td>485</td>\n",
       "    </tr>\n",
       "    <tr>\n",
       "      <td>7</td>\n",
       "      <td>12</td>\n",
       "      <td>Tateru</td>\n",
       "      <td>Neutral</td>\n",
       "      <td>Neutral</td>\n",
       "      <td>79</td>\n",
       "      <td>85</td>\n",
       "      <td>60</td>\n",
       "      <td>78</td>\n",
       "      <td>66</td>\n",
       "      <td>54</td>\n",
       "      <td>66</td>\n",
       "      <td>488</td>\n",
       "    </tr>\n",
       "    <tr>\n",
       "      <td>8</td>\n",
       "      <td>16</td>\n",
       "      <td>Paharo</td>\n",
       "      <td>Wind</td>\n",
       "      <td>Wind</td>\n",
       "      <td>48</td>\n",
       "      <td>18</td>\n",
       "      <td>60</td>\n",
       "      <td>40</td>\n",
       "      <td>40</td>\n",
       "      <td>50</td>\n",
       "      <td>50</td>\n",
       "      <td>306</td>\n",
       "    </tr>\n",
       "    <tr>\n",
       "      <td>9</td>\n",
       "      <td>17</td>\n",
       "      <td>Paharac</td>\n",
       "      <td>Wind</td>\n",
       "      <td>Wind</td>\n",
       "      <td>60</td>\n",
       "      <td>30</td>\n",
       "      <td>70</td>\n",
       "      <td>50</td>\n",
       "      <td>55</td>\n",
       "      <td>60</td>\n",
       "      <td>60</td>\n",
       "      <td>385</td>\n",
       "    </tr>\n",
       "    <tr>\n",
       "      <td>10</td>\n",
       "      <td>18</td>\n",
       "      <td>Granpah</td>\n",
       "      <td>Wind</td>\n",
       "      <td>Wind</td>\n",
       "      <td>69</td>\n",
       "      <td>36</td>\n",
       "      <td>78</td>\n",
       "      <td>55</td>\n",
       "      <td>61</td>\n",
       "      <td>72</td>\n",
       "      <td>66</td>\n",
       "      <td>437</td>\n",
       "    </tr>\n",
       "    <tr>\n",
       "      <td>11</td>\n",
       "      <td>19</td>\n",
       "      <td>Ampling</td>\n",
       "      <td>Electric</td>\n",
       "      <td>Electric</td>\n",
       "      <td>-</td>\n",
       "      <td>-</td>\n",
       "      <td>-</td>\n",
       "      <td>-</td>\n",
       "      <td>-</td>\n",
       "      <td>-</td>\n",
       "      <td>-</td>\n",
       "      <td>-</td>\n",
       "    </tr>\n",
       "    <tr>\n",
       "      <td>12</td>\n",
       "      <td>20</td>\n",
       "      <td>Amphatyr</td>\n",
       "      <td>Electric</td>\n",
       "      <td>Nature</td>\n",
       "      <td>-</td>\n",
       "      <td>-</td>\n",
       "      <td>-</td>\n",
       "      <td>-</td>\n",
       "      <td>-</td>\n",
       "      <td>-</td>\n",
       "      <td>-</td>\n",
       "      <td>-</td>\n",
       "    </tr>\n",
       "    <tr>\n",
       "      <td>13</td>\n",
       "      <td>21</td>\n",
       "      <td>Bunbun</td>\n",
       "      <td>Earth</td>\n",
       "      <td>Crystal</td>\n",
       "      <td>72</td>\n",
       "      <td>40</td>\n",
       "      <td>69</td>\n",
       "      <td>50</td>\n",
       "      <td>36</td>\n",
       "      <td>64</td>\n",
       "      <td>43</td>\n",
       "      <td>374</td>\n",
       "    </tr>\n",
       "    <tr>\n",
       "      <td>14</td>\n",
       "      <td>22</td>\n",
       "      <td>Mudrid</td>\n",
       "      <td>Earth</td>\n",
       "      <td>Crystal</td>\n",
       "      <td>85</td>\n",
       "      <td>44</td>\n",
       "      <td>95</td>\n",
       "      <td>60</td>\n",
       "      <td>42</td>\n",
       "      <td>80</td>\n",
       "      <td>50</td>\n",
       "      <td>456</td>\n",
       "    </tr>\n",
       "    <tr>\n",
       "      <td>15</td>\n",
       "      <td>23</td>\n",
       "      <td>Hidody</td>\n",
       "      <td>Nature</td>\n",
       "      <td>Nature</td>\n",
       "      <td>49</td>\n",
       "      <td>70</td>\n",
       "      <td>39</td>\n",
       "      <td>42</td>\n",
       "      <td>39</td>\n",
       "      <td>62</td>\n",
       "      <td>55</td>\n",
       "      <td>356</td>\n",
       "    </tr>\n",
       "    <tr>\n",
       "      <td>16</td>\n",
       "      <td>24</td>\n",
       "      <td>Taifu</td>\n",
       "      <td>Nature</td>\n",
       "      <td>Nature</td>\n",
       "      <td>60</td>\n",
       "      <td>87</td>\n",
       "      <td>45</td>\n",
       "      <td>50</td>\n",
       "      <td>45</td>\n",
       "      <td>85</td>\n",
       "      <td>89</td>\n",
       "      <td>461</td>\n",
       "    </tr>\n",
       "    <tr>\n",
       "      <td>17</td>\n",
       "      <td>25</td>\n",
       "      <td>Fomu</td>\n",
       "      <td>Water</td>\n",
       "      <td>Water</td>\n",
       "      <td>40</td>\n",
       "      <td>60</td>\n",
       "      <td>40</td>\n",
       "      <td>30</td>\n",
       "      <td>35</td>\n",
       "      <td>65</td>\n",
       "      <td>70</td>\n",
       "      <td>340</td>\n",
       "    </tr>\n",
       "    <tr>\n",
       "      <td>18</td>\n",
       "      <td>26</td>\n",
       "      <td>Wiplump</td>\n",
       "      <td>Water</td>\n",
       "      <td>Wind</td>\n",
       "      <td>66</td>\n",
       "      <td>80</td>\n",
       "      <td>70</td>\n",
       "      <td>40</td>\n",
       "      <td>50</td>\n",
       "      <td>95</td>\n",
       "      <td>80</td>\n",
       "      <td>481</td>\n",
       "    </tr>\n",
       "    <tr>\n",
       "      <td>19</td>\n",
       "      <td>27</td>\n",
       "      <td>Skail</td>\n",
       "      <td>Neutral</td>\n",
       "      <td>Neutral</td>\n",
       "      <td>57</td>\n",
       "      <td>43</td>\n",
       "      <td>60</td>\n",
       "      <td>45</td>\n",
       "      <td>50</td>\n",
       "      <td>32</td>\n",
       "      <td>41</td>\n",
       "      <td>328</td>\n",
       "    </tr>\n",
       "  </tbody>\n",
       "</table>\n",
       "</div>"
      ],
      "text/plain": [
       "   No.     Temtem   Type(s)           Base Stats                              \\\n",
       "   No.     Temtem         1         2         HP STA SPD ATK DEF SPATK SPDEF   \n",
       "0    2       Oree   Digital   Digital         61  74  35  65  44    32    31   \n",
       "1    3    Zaobian   Digital   Digital         75  90  51  84  50    42    44   \n",
       "2    7   Platypet     Water     Toxic         55  39  65  45  31    67    56   \n",
       "3    8     Platox     Water     Toxic         62  44  74  50  35    76    63   \n",
       "4    9  Platimous     Water     Toxic         71  49  82  56  39    90    70   \n",
       "5   10      Swali    Nature    Nature         44  65  35  50  40    55    60   \n",
       "6   11      Loali    Nature      Wind         55  80  80  60  50    70    90   \n",
       "7   12     Tateru   Neutral   Neutral         79  85  60  78  66    54    66   \n",
       "8   16     Paharo      Wind      Wind         48  18  60  40  40    50    50   \n",
       "9   17    Paharac      Wind      Wind         60  30  70  50  55    60    60   \n",
       "10  18    Granpah      Wind      Wind         69  36  78  55  61    72    66   \n",
       "11  19    Ampling  Electric  Electric          -   -   -   -   -     -     -   \n",
       "12  20   Amphatyr  Electric    Nature          -   -   -   -   -     -     -   \n",
       "13  21     Bunbun     Earth   Crystal         72  40  69  50  36    64    43   \n",
       "14  22     Mudrid     Earth   Crystal         85  44  95  60  42    80    50   \n",
       "15  23     Hidody    Nature    Nature         49  70  39  42  39    62    55   \n",
       "16  24      Taifu    Nature    Nature         60  87  45  50  45    85    89   \n",
       "17  25       Fomu     Water     Water         40  60  40  30  35    65    70   \n",
       "18  26    Wiplump     Water      Wind         66  80  70  40  50    95    80   \n",
       "19  27      Skail   Neutral   Neutral         57  43  60  45  50    32    41   \n",
       "\n",
       "          \n",
       "   Total  \n",
       "0    342  \n",
       "1    436  \n",
       "2    358  \n",
       "3    404  \n",
       "4    457  \n",
       "5    349  \n",
       "6    485  \n",
       "7    488  \n",
       "8    306  \n",
       "9    385  \n",
       "10   437  \n",
       "11     -  \n",
       "12     -  \n",
       "13   374  \n",
       "14   456  \n",
       "15   356  \n",
       "16   461  \n",
       "17   340  \n",
       "18   481  \n",
       "19   328  "
      ]
     },
     "execution_count": 5,
     "metadata": {},
     "output_type": "execute_result"
    }
   ],
   "source": [
    "df.head(20)"
   ]
  },
  {
   "cell_type": "code",
   "execution_count": 6,
   "metadata": {},
   "outputs": [
    {
     "data": {
      "text/html": [
       "<div>\n",
       "<style scoped>\n",
       "    .dataframe tbody tr th:only-of-type {\n",
       "        vertical-align: middle;\n",
       "    }\n",
       "\n",
       "    .dataframe tbody tr th {\n",
       "        vertical-align: top;\n",
       "    }\n",
       "\n",
       "    .dataframe thead th {\n",
       "        text-align: right;\n",
       "    }\n",
       "</style>\n",
       "<table border=\"1\" class=\"dataframe\">\n",
       "  <thead>\n",
       "    <tr style=\"text-align: right;\">\n",
       "      <th></th>\n",
       "      <th>HP</th>\n",
       "      <th>STA</th>\n",
       "      <th>SPD</th>\n",
       "      <th>ATK</th>\n",
       "      <th>DEF</th>\n",
       "      <th>SPATK</th>\n",
       "      <th>SPDEF</th>\n",
       "      <th>Total</th>\n",
       "    </tr>\n",
       "  </thead>\n",
       "  <tbody>\n",
       "    <tr>\n",
       "      <td>11</td>\n",
       "      <td>-</td>\n",
       "      <td>-</td>\n",
       "      <td>-</td>\n",
       "      <td>-</td>\n",
       "      <td>-</td>\n",
       "      <td>-</td>\n",
       "      <td>-</td>\n",
       "      <td>-</td>\n",
       "    </tr>\n",
       "    <tr>\n",
       "      <td>12</td>\n",
       "      <td>-</td>\n",
       "      <td>-</td>\n",
       "      <td>-</td>\n",
       "      <td>-</td>\n",
       "      <td>-</td>\n",
       "      <td>-</td>\n",
       "      <td>-</td>\n",
       "      <td>-</td>\n",
       "    </tr>\n",
       "    <tr>\n",
       "      <td>56</td>\n",
       "      <td>-</td>\n",
       "      <td>-</td>\n",
       "      <td>-</td>\n",
       "      <td>-</td>\n",
       "      <td>-</td>\n",
       "      <td>-</td>\n",
       "      <td>-</td>\n",
       "      <td>-</td>\n",
       "    </tr>\n",
       "    <tr>\n",
       "      <td>59</td>\n",
       "      <td>-</td>\n",
       "      <td>-</td>\n",
       "      <td>-</td>\n",
       "      <td>-</td>\n",
       "      <td>-</td>\n",
       "      <td>-</td>\n",
       "      <td>-</td>\n",
       "      <td>-</td>\n",
       "    </tr>\n",
       "    <tr>\n",
       "      <td>74</td>\n",
       "      <td>-</td>\n",
       "      <td>-</td>\n",
       "      <td>-</td>\n",
       "      <td>-</td>\n",
       "      <td>-</td>\n",
       "      <td>-</td>\n",
       "      <td>-</td>\n",
       "      <td>-</td>\n",
       "    </tr>\n",
       "  </tbody>\n",
       "</table>\n",
       "</div>"
      ],
      "text/plain": [
       "   HP STA SPD ATK DEF SPATK SPDEF Total\n",
       "11  -   -   -   -   -     -     -     -\n",
       "12  -   -   -   -   -     -     -     -\n",
       "56  -   -   -   -   -     -     -     -\n",
       "59  -   -   -   -   -     -     -     -\n",
       "74  -   -   -   -   -     -     -     -"
      ]
     },
     "execution_count": 6,
     "metadata": {},
     "output_type": "execute_result"
    }
   ],
   "source": [
    "#Check whats going on with the missing values\n",
    "df[\"Base Stats\"][df['Base Stats'][\"HP\"] == \"-\"]"
   ]
  },
  {
   "cell_type": "code",
   "execution_count": 7,
   "metadata": {},
   "outputs": [],
   "source": [
    "#Delete TemTem with missing Values. These are Temtem that have not been added to the game yet\n",
    "df2 = df[df['Base Stats'][\"HP\"] != \"-\"]"
   ]
  },
  {
   "cell_type": "code",
   "execution_count": 8,
   "metadata": {},
   "outputs": [
    {
     "data": {
      "text/html": [
       "<div>\n",
       "<style scoped>\n",
       "    .dataframe tbody tr th:only-of-type {\n",
       "        vertical-align: middle;\n",
       "    }\n",
       "\n",
       "    .dataframe tbody tr th {\n",
       "        vertical-align: top;\n",
       "    }\n",
       "\n",
       "    .dataframe thead tr th {\n",
       "        text-align: left;\n",
       "    }\n",
       "</style>\n",
       "<table border=\"1\" class=\"dataframe\">\n",
       "  <thead>\n",
       "    <tr>\n",
       "      <th></th>\n",
       "      <th>No.</th>\n",
       "      <th>Temtem</th>\n",
       "      <th colspan=\"2\" halign=\"left\">Type(s)</th>\n",
       "      <th colspan=\"8\" halign=\"left\">Base Stats</th>\n",
       "    </tr>\n",
       "    <tr>\n",
       "      <th></th>\n",
       "      <th>No.</th>\n",
       "      <th>Temtem</th>\n",
       "      <th>1</th>\n",
       "      <th>2</th>\n",
       "      <th>HP</th>\n",
       "      <th>STA</th>\n",
       "      <th>SPD</th>\n",
       "      <th>ATK</th>\n",
       "      <th>DEF</th>\n",
       "      <th>SPATK</th>\n",
       "      <th>SPDEF</th>\n",
       "      <th>Total</th>\n",
       "    </tr>\n",
       "  </thead>\n",
       "  <tbody>\n",
       "    <tr>\n",
       "      <td>0</td>\n",
       "      <td>2</td>\n",
       "      <td>Oree</td>\n",
       "      <td>Digital</td>\n",
       "      <td>Digital</td>\n",
       "      <td>61</td>\n",
       "      <td>74</td>\n",
       "      <td>35</td>\n",
       "      <td>65</td>\n",
       "      <td>44</td>\n",
       "      <td>32</td>\n",
       "      <td>31</td>\n",
       "      <td>342</td>\n",
       "    </tr>\n",
       "    <tr>\n",
       "      <td>1</td>\n",
       "      <td>3</td>\n",
       "      <td>Zaobian</td>\n",
       "      <td>Digital</td>\n",
       "      <td>Digital</td>\n",
       "      <td>75</td>\n",
       "      <td>90</td>\n",
       "      <td>51</td>\n",
       "      <td>84</td>\n",
       "      <td>50</td>\n",
       "      <td>42</td>\n",
       "      <td>44</td>\n",
       "      <td>436</td>\n",
       "    </tr>\n",
       "    <tr>\n",
       "      <td>2</td>\n",
       "      <td>7</td>\n",
       "      <td>Platypet</td>\n",
       "      <td>Water</td>\n",
       "      <td>Toxic</td>\n",
       "      <td>55</td>\n",
       "      <td>39</td>\n",
       "      <td>65</td>\n",
       "      <td>45</td>\n",
       "      <td>31</td>\n",
       "      <td>67</td>\n",
       "      <td>56</td>\n",
       "      <td>358</td>\n",
       "    </tr>\n",
       "    <tr>\n",
       "      <td>3</td>\n",
       "      <td>8</td>\n",
       "      <td>Platox</td>\n",
       "      <td>Water</td>\n",
       "      <td>Toxic</td>\n",
       "      <td>62</td>\n",
       "      <td>44</td>\n",
       "      <td>74</td>\n",
       "      <td>50</td>\n",
       "      <td>35</td>\n",
       "      <td>76</td>\n",
       "      <td>63</td>\n",
       "      <td>404</td>\n",
       "    </tr>\n",
       "    <tr>\n",
       "      <td>4</td>\n",
       "      <td>9</td>\n",
       "      <td>Platimous</td>\n",
       "      <td>Water</td>\n",
       "      <td>Toxic</td>\n",
       "      <td>71</td>\n",
       "      <td>49</td>\n",
       "      <td>82</td>\n",
       "      <td>56</td>\n",
       "      <td>39</td>\n",
       "      <td>90</td>\n",
       "      <td>70</td>\n",
       "      <td>457</td>\n",
       "    </tr>\n",
       "    <tr>\n",
       "      <td>5</td>\n",
       "      <td>10</td>\n",
       "      <td>Swali</td>\n",
       "      <td>Nature</td>\n",
       "      <td>Nature</td>\n",
       "      <td>44</td>\n",
       "      <td>65</td>\n",
       "      <td>35</td>\n",
       "      <td>50</td>\n",
       "      <td>40</td>\n",
       "      <td>55</td>\n",
       "      <td>60</td>\n",
       "      <td>349</td>\n",
       "    </tr>\n",
       "    <tr>\n",
       "      <td>6</td>\n",
       "      <td>11</td>\n",
       "      <td>Loali</td>\n",
       "      <td>Nature</td>\n",
       "      <td>Wind</td>\n",
       "      <td>55</td>\n",
       "      <td>80</td>\n",
       "      <td>80</td>\n",
       "      <td>60</td>\n",
       "      <td>50</td>\n",
       "      <td>70</td>\n",
       "      <td>90</td>\n",
       "      <td>485</td>\n",
       "    </tr>\n",
       "    <tr>\n",
       "      <td>7</td>\n",
       "      <td>12</td>\n",
       "      <td>Tateru</td>\n",
       "      <td>Neutral</td>\n",
       "      <td>Neutral</td>\n",
       "      <td>79</td>\n",
       "      <td>85</td>\n",
       "      <td>60</td>\n",
       "      <td>78</td>\n",
       "      <td>66</td>\n",
       "      <td>54</td>\n",
       "      <td>66</td>\n",
       "      <td>488</td>\n",
       "    </tr>\n",
       "    <tr>\n",
       "      <td>8</td>\n",
       "      <td>16</td>\n",
       "      <td>Paharo</td>\n",
       "      <td>Wind</td>\n",
       "      <td>Wind</td>\n",
       "      <td>48</td>\n",
       "      <td>18</td>\n",
       "      <td>60</td>\n",
       "      <td>40</td>\n",
       "      <td>40</td>\n",
       "      <td>50</td>\n",
       "      <td>50</td>\n",
       "      <td>306</td>\n",
       "    </tr>\n",
       "    <tr>\n",
       "      <td>9</td>\n",
       "      <td>17</td>\n",
       "      <td>Paharac</td>\n",
       "      <td>Wind</td>\n",
       "      <td>Wind</td>\n",
       "      <td>60</td>\n",
       "      <td>30</td>\n",
       "      <td>70</td>\n",
       "      <td>50</td>\n",
       "      <td>55</td>\n",
       "      <td>60</td>\n",
       "      <td>60</td>\n",
       "      <td>385</td>\n",
       "    </tr>\n",
       "    <tr>\n",
       "      <td>10</td>\n",
       "      <td>18</td>\n",
       "      <td>Granpah</td>\n",
       "      <td>Wind</td>\n",
       "      <td>Wind</td>\n",
       "      <td>69</td>\n",
       "      <td>36</td>\n",
       "      <td>78</td>\n",
       "      <td>55</td>\n",
       "      <td>61</td>\n",
       "      <td>72</td>\n",
       "      <td>66</td>\n",
       "      <td>437</td>\n",
       "    </tr>\n",
       "    <tr>\n",
       "      <td>13</td>\n",
       "      <td>21</td>\n",
       "      <td>Bunbun</td>\n",
       "      <td>Earth</td>\n",
       "      <td>Crystal</td>\n",
       "      <td>72</td>\n",
       "      <td>40</td>\n",
       "      <td>69</td>\n",
       "      <td>50</td>\n",
       "      <td>36</td>\n",
       "      <td>64</td>\n",
       "      <td>43</td>\n",
       "      <td>374</td>\n",
       "    </tr>\n",
       "    <tr>\n",
       "      <td>14</td>\n",
       "      <td>22</td>\n",
       "      <td>Mudrid</td>\n",
       "      <td>Earth</td>\n",
       "      <td>Crystal</td>\n",
       "      <td>85</td>\n",
       "      <td>44</td>\n",
       "      <td>95</td>\n",
       "      <td>60</td>\n",
       "      <td>42</td>\n",
       "      <td>80</td>\n",
       "      <td>50</td>\n",
       "      <td>456</td>\n",
       "    </tr>\n",
       "    <tr>\n",
       "      <td>15</td>\n",
       "      <td>23</td>\n",
       "      <td>Hidody</td>\n",
       "      <td>Nature</td>\n",
       "      <td>Nature</td>\n",
       "      <td>49</td>\n",
       "      <td>70</td>\n",
       "      <td>39</td>\n",
       "      <td>42</td>\n",
       "      <td>39</td>\n",
       "      <td>62</td>\n",
       "      <td>55</td>\n",
       "      <td>356</td>\n",
       "    </tr>\n",
       "    <tr>\n",
       "      <td>16</td>\n",
       "      <td>24</td>\n",
       "      <td>Taifu</td>\n",
       "      <td>Nature</td>\n",
       "      <td>Nature</td>\n",
       "      <td>60</td>\n",
       "      <td>87</td>\n",
       "      <td>45</td>\n",
       "      <td>50</td>\n",
       "      <td>45</td>\n",
       "      <td>85</td>\n",
       "      <td>89</td>\n",
       "      <td>461</td>\n",
       "    </tr>\n",
       "    <tr>\n",
       "      <td>17</td>\n",
       "      <td>25</td>\n",
       "      <td>Fomu</td>\n",
       "      <td>Water</td>\n",
       "      <td>Water</td>\n",
       "      <td>40</td>\n",
       "      <td>60</td>\n",
       "      <td>40</td>\n",
       "      <td>30</td>\n",
       "      <td>35</td>\n",
       "      <td>65</td>\n",
       "      <td>70</td>\n",
       "      <td>340</td>\n",
       "    </tr>\n",
       "    <tr>\n",
       "      <td>18</td>\n",
       "      <td>26</td>\n",
       "      <td>Wiplump</td>\n",
       "      <td>Water</td>\n",
       "      <td>Wind</td>\n",
       "      <td>66</td>\n",
       "      <td>80</td>\n",
       "      <td>70</td>\n",
       "      <td>40</td>\n",
       "      <td>50</td>\n",
       "      <td>95</td>\n",
       "      <td>80</td>\n",
       "      <td>481</td>\n",
       "    </tr>\n",
       "    <tr>\n",
       "      <td>19</td>\n",
       "      <td>27</td>\n",
       "      <td>Skail</td>\n",
       "      <td>Neutral</td>\n",
       "      <td>Neutral</td>\n",
       "      <td>57</td>\n",
       "      <td>43</td>\n",
       "      <td>60</td>\n",
       "      <td>45</td>\n",
       "      <td>50</td>\n",
       "      <td>32</td>\n",
       "      <td>41</td>\n",
       "      <td>328</td>\n",
       "    </tr>\n",
       "    <tr>\n",
       "      <td>20</td>\n",
       "      <td>28</td>\n",
       "      <td>Skunch</td>\n",
       "      <td>Neutral</td>\n",
       "      <td>Melee</td>\n",
       "      <td>72</td>\n",
       "      <td>62</td>\n",
       "      <td>75</td>\n",
       "      <td>70</td>\n",
       "      <td>70</td>\n",
       "      <td>45</td>\n",
       "      <td>60</td>\n",
       "      <td>454</td>\n",
       "    </tr>\n",
       "    <tr>\n",
       "      <td>21</td>\n",
       "      <td>32</td>\n",
       "      <td>Houchic</td>\n",
       "      <td>Mental</td>\n",
       "      <td>Mental</td>\n",
       "      <td>38</td>\n",
       "      <td>44</td>\n",
       "      <td>66</td>\n",
       "      <td>40</td>\n",
       "      <td>41</td>\n",
       "      <td>72</td>\n",
       "      <td>52</td>\n",
       "      <td>353</td>\n",
       "    </tr>\n",
       "  </tbody>\n",
       "</table>\n",
       "</div>"
      ],
      "text/plain": [
       "   No.     Temtem  Type(s)          Base Stats                              \\\n",
       "   No.     Temtem        1        2         HP STA SPD ATK DEF SPATK SPDEF   \n",
       "0    2       Oree  Digital  Digital         61  74  35  65  44    32    31   \n",
       "1    3    Zaobian  Digital  Digital         75  90  51  84  50    42    44   \n",
       "2    7   Platypet    Water    Toxic         55  39  65  45  31    67    56   \n",
       "3    8     Platox    Water    Toxic         62  44  74  50  35    76    63   \n",
       "4    9  Platimous    Water    Toxic         71  49  82  56  39    90    70   \n",
       "5   10      Swali   Nature   Nature         44  65  35  50  40    55    60   \n",
       "6   11      Loali   Nature     Wind         55  80  80  60  50    70    90   \n",
       "7   12     Tateru  Neutral  Neutral         79  85  60  78  66    54    66   \n",
       "8   16     Paharo     Wind     Wind         48  18  60  40  40    50    50   \n",
       "9   17    Paharac     Wind     Wind         60  30  70  50  55    60    60   \n",
       "10  18    Granpah     Wind     Wind         69  36  78  55  61    72    66   \n",
       "13  21     Bunbun    Earth  Crystal         72  40  69  50  36    64    43   \n",
       "14  22     Mudrid    Earth  Crystal         85  44  95  60  42    80    50   \n",
       "15  23     Hidody   Nature   Nature         49  70  39  42  39    62    55   \n",
       "16  24      Taifu   Nature   Nature         60  87  45  50  45    85    89   \n",
       "17  25       Fomu    Water    Water         40  60  40  30  35    65    70   \n",
       "18  26    Wiplump    Water     Wind         66  80  70  40  50    95    80   \n",
       "19  27      Skail  Neutral  Neutral         57  43  60  45  50    32    41   \n",
       "20  28     Skunch  Neutral    Melee         72  62  75  70  70    45    60   \n",
       "21  32    Houchic   Mental   Mental         38  44  66  40  41    72    52   \n",
       "\n",
       "          \n",
       "   Total  \n",
       "0    342  \n",
       "1    436  \n",
       "2    358  \n",
       "3    404  \n",
       "4    457  \n",
       "5    349  \n",
       "6    485  \n",
       "7    488  \n",
       "8    306  \n",
       "9    385  \n",
       "10   437  \n",
       "13   374  \n",
       "14   456  \n",
       "15   356  \n",
       "16   461  \n",
       "17   340  \n",
       "18   481  \n",
       "19   328  \n",
       "20   454  \n",
       "21   353  "
      ]
     },
     "execution_count": 8,
     "metadata": {},
     "output_type": "execute_result"
    }
   ],
   "source": [
    "df2.head(20)"
   ]
  },
  {
   "cell_type": "code",
   "execution_count": 9,
   "metadata": {},
   "outputs": [],
   "source": [
    "#highest overall bese stat temtem\n",
    "Highest_totals = df2.sort_values([('Base Stats', 'Total')], ascending=False)"
   ]
  },
  {
   "cell_type": "code",
   "execution_count": 10,
   "metadata": {},
   "outputs": [
    {
     "data": {
      "text/html": [
       "<div>\n",
       "<style scoped>\n",
       "    .dataframe tbody tr th:only-of-type {\n",
       "        vertical-align: middle;\n",
       "    }\n",
       "\n",
       "    .dataframe tbody tr th {\n",
       "        vertical-align: top;\n",
       "    }\n",
       "\n",
       "    .dataframe thead tr th {\n",
       "        text-align: left;\n",
       "    }\n",
       "</style>\n",
       "<table border=\"1\" class=\"dataframe\">\n",
       "  <thead>\n",
       "    <tr>\n",
       "      <th></th>\n",
       "      <th>No.</th>\n",
       "      <th>Temtem</th>\n",
       "      <th colspan=\"2\" halign=\"left\">Type(s)</th>\n",
       "      <th colspan=\"8\" halign=\"left\">Base Stats</th>\n",
       "    </tr>\n",
       "    <tr>\n",
       "      <th></th>\n",
       "      <th>No.</th>\n",
       "      <th>Temtem</th>\n",
       "      <th>1</th>\n",
       "      <th>2</th>\n",
       "      <th>HP</th>\n",
       "      <th>STA</th>\n",
       "      <th>SPD</th>\n",
       "      <th>ATK</th>\n",
       "      <th>DEF</th>\n",
       "      <th>SPATK</th>\n",
       "      <th>SPDEF</th>\n",
       "      <th>Total</th>\n",
       "    </tr>\n",
       "  </thead>\n",
       "  <tbody>\n",
       "    <tr>\n",
       "      <td>7</td>\n",
       "      <td>12</td>\n",
       "      <td>Tateru</td>\n",
       "      <td>Neutral</td>\n",
       "      <td>Neutral</td>\n",
       "      <td>79</td>\n",
       "      <td>85</td>\n",
       "      <td>60</td>\n",
       "      <td>78</td>\n",
       "      <td>66</td>\n",
       "      <td>54</td>\n",
       "      <td>66</td>\n",
       "      <td>488</td>\n",
       "    </tr>\n",
       "    <tr>\n",
       "      <td>71</td>\n",
       "      <td>115</td>\n",
       "      <td>Oceara</td>\n",
       "      <td>Water</td>\n",
       "      <td>Water</td>\n",
       "      <td>64</td>\n",
       "      <td>42</td>\n",
       "      <td>100</td>\n",
       "      <td>54</td>\n",
       "      <td>51</td>\n",
       "      <td>110</td>\n",
       "      <td>65</td>\n",
       "      <td>486</td>\n",
       "    </tr>\n",
       "    <tr>\n",
       "      <td>6</td>\n",
       "      <td>11</td>\n",
       "      <td>Loali</td>\n",
       "      <td>Nature</td>\n",
       "      <td>Wind</td>\n",
       "      <td>55</td>\n",
       "      <td>80</td>\n",
       "      <td>80</td>\n",
       "      <td>60</td>\n",
       "      <td>50</td>\n",
       "      <td>70</td>\n",
       "      <td>90</td>\n",
       "      <td>485</td>\n",
       "    </tr>\n",
       "    <tr>\n",
       "      <td>18</td>\n",
       "      <td>26</td>\n",
       "      <td>Wiplump</td>\n",
       "      <td>Water</td>\n",
       "      <td>Wind</td>\n",
       "      <td>66</td>\n",
       "      <td>80</td>\n",
       "      <td>70</td>\n",
       "      <td>40</td>\n",
       "      <td>50</td>\n",
       "      <td>95</td>\n",
       "      <td>80</td>\n",
       "      <td>481</td>\n",
       "    </tr>\n",
       "    <tr>\n",
       "      <td>55</td>\n",
       "      <td>89</td>\n",
       "      <td>Ukama</td>\n",
       "      <td>Water</td>\n",
       "      <td>Water</td>\n",
       "      <td>68</td>\n",
       "      <td>90</td>\n",
       "      <td>100</td>\n",
       "      <td>34</td>\n",
       "      <td>51</td>\n",
       "      <td>76</td>\n",
       "      <td>54</td>\n",
       "      <td>473</td>\n",
       "    </tr>\n",
       "  </tbody>\n",
       "</table>\n",
       "</div>"
      ],
      "text/plain": [
       "    No.   Temtem  Type(s)          Base Stats                               \\\n",
       "    No.   Temtem        1        2         HP STA  SPD ATK DEF SPATK SPDEF   \n",
       "7    12   Tateru  Neutral  Neutral         79  85   60  78  66    54    66   \n",
       "71  115   Oceara    Water    Water         64  42  100  54  51   110    65   \n",
       "6    11    Loali   Nature     Wind         55  80   80  60  50    70    90   \n",
       "18   26  Wiplump    Water     Wind         66  80   70  40  50    95    80   \n",
       "55   89    Ukama    Water    Water         68  90  100  34  51    76    54   \n",
       "\n",
       "          \n",
       "   Total  \n",
       "7    488  \n",
       "71   486  \n",
       "6    485  \n",
       "18   481  \n",
       "55   473  "
      ]
     },
     "execution_count": 10,
     "metadata": {},
     "output_type": "execute_result"
    }
   ],
   "source": [
    "Highest_totals.head()"
   ]
  },
  {
   "cell_type": "code",
   "execution_count": 17,
   "metadata": {},
   "outputs": [
    {
     "name": "stdout",
     "output_type": "stream",
     "text": [
      "No.         No.        int64\n",
      "Temtem      Temtem    object\n",
      "Type(s)     1         object\n",
      "            2         object\n",
      "Base Stats  HP        object\n",
      "            STA       object\n",
      "            SPD       object\n",
      "            ATK       object\n",
      "            DEF       object\n",
      "            SPATK     object\n",
      "            SPDEF     object\n",
      "            Total     object\n",
      "dtype: object\n"
     ]
    }
   ],
   "source": [
    "#get data typs \n",
    "print(df2.dtypes)"
   ]
  },
  {
   "cell_type": "code",
   "execution_count": 11,
   "metadata": {},
   "outputs": [
    {
     "name": "stderr",
     "output_type": "stream",
     "text": [
      "C:\\Users\\edste\\Anaconda3\\lib\\site-packages\\ipykernel_launcher.py:2: SettingWithCopyWarning: \n",
      "A value is trying to be set on a copy of a slice from a DataFrame.\n",
      "Try using .loc[row_indexer,col_indexer] = value instead\n",
      "\n",
      "See the caveats in the documentation: http://pandas.pydata.org/pandas-docs/stable/user_guide/indexing.html#returning-a-view-versus-a-copy\n",
      "  \n"
     ]
    }
   ],
   "source": [
    "#Convert data type to be usable \n",
    "df2['Base Stats'] = df2['Base Stats'].astype(int)"
   ]
  },
  {
   "cell_type": "code",
   "execution_count": 12,
   "metadata": {},
   "outputs": [
    {
     "name": "stdout",
     "output_type": "stream",
     "text": [
      "HP       int32\n",
      "STA      int32\n",
      "SPD      int32\n",
      "ATK      int32\n",
      "DEF      int32\n",
      "SPATK    int32\n",
      "SPDEF    int32\n",
      "Total    int32\n",
      "dtype: object\n"
     ]
    }
   ],
   "source": [
    "print(df2['Base Stats'].dtypes)"
   ]
  },
  {
   "cell_type": "code",
   "execution_count": 13,
   "metadata": {},
   "outputs": [
    {
     "name": "stderr",
     "output_type": "stream",
     "text": [
      "C:\\Users\\edste\\Anaconda3\\lib\\site-packages\\ipykernel_launcher.py:3: SettingWithCopyWarning: \n",
      "A value is trying to be set on a copy of a slice from a DataFrame.\n",
      "Try using .loc[row_indexer,col_indexer] = value instead\n",
      "\n",
      "See the caveats in the documentation: http://pandas.pydata.org/pandas-docs/stable/user_guide/indexing.html#returning-a-view-versus-a-copy\n",
      "  This is separate from the ipykernel package so we can avoid doing imports until\n"
     ]
    }
   ],
   "source": [
    "#best combo for an attacker would be speed, and attack to always attack first after a set up. who has the best \n",
    "#balance of speed and attack\n",
    "df2['Fastest_atk'] = df2['Base Stats']['SPD']+df2['Base Stats']['ATK']"
   ]
  },
  {
   "cell_type": "code",
   "execution_count": 39,
   "metadata": {},
   "outputs": [
    {
     "data": {
      "text/html": [
       "<div>\n",
       "<style scoped>\n",
       "    .dataframe tbody tr th:only-of-type {\n",
       "        vertical-align: middle;\n",
       "    }\n",
       "\n",
       "    .dataframe tbody tr th {\n",
       "        vertical-align: top;\n",
       "    }\n",
       "\n",
       "    .dataframe thead tr th {\n",
       "        text-align: left;\n",
       "    }\n",
       "</style>\n",
       "<table border=\"1\" class=\"dataframe\">\n",
       "  <thead>\n",
       "    <tr>\n",
       "      <th></th>\n",
       "      <th>No.</th>\n",
       "      <th>Temtem</th>\n",
       "      <th colspan=\"2\" halign=\"left\">Type(s)</th>\n",
       "      <th colspan=\"8\" halign=\"left\">Base Stats</th>\n",
       "      <th>Fastest_atk</th>\n",
       "    </tr>\n",
       "    <tr>\n",
       "      <th></th>\n",
       "      <th>No.</th>\n",
       "      <th>Temtem</th>\n",
       "      <th>1</th>\n",
       "      <th>2</th>\n",
       "      <th>HP</th>\n",
       "      <th>STA</th>\n",
       "      <th>SPD</th>\n",
       "      <th>ATK</th>\n",
       "      <th>DEF</th>\n",
       "      <th>SPATK</th>\n",
       "      <th>SPDEF</th>\n",
       "      <th>Total</th>\n",
       "      <th></th>\n",
       "    </tr>\n",
       "  </thead>\n",
       "  <tbody>\n",
       "    <tr>\n",
       "      <td>0</td>\n",
       "      <td>2</td>\n",
       "      <td>Oree</td>\n",
       "      <td>Digital</td>\n",
       "      <td>Digital</td>\n",
       "      <td>61</td>\n",
       "      <td>74</td>\n",
       "      <td>35</td>\n",
       "      <td>65</td>\n",
       "      <td>44</td>\n",
       "      <td>32</td>\n",
       "      <td>31</td>\n",
       "      <td>342</td>\n",
       "      <td>100</td>\n",
       "    </tr>\n",
       "    <tr>\n",
       "      <td>1</td>\n",
       "      <td>3</td>\n",
       "      <td>Zaobian</td>\n",
       "      <td>Digital</td>\n",
       "      <td>Digital</td>\n",
       "      <td>75</td>\n",
       "      <td>90</td>\n",
       "      <td>51</td>\n",
       "      <td>84</td>\n",
       "      <td>50</td>\n",
       "      <td>42</td>\n",
       "      <td>44</td>\n",
       "      <td>436</td>\n",
       "      <td>135</td>\n",
       "    </tr>\n",
       "    <tr>\n",
       "      <td>2</td>\n",
       "      <td>7</td>\n",
       "      <td>Platypet</td>\n",
       "      <td>Water</td>\n",
       "      <td>Toxic</td>\n",
       "      <td>55</td>\n",
       "      <td>39</td>\n",
       "      <td>65</td>\n",
       "      <td>45</td>\n",
       "      <td>31</td>\n",
       "      <td>67</td>\n",
       "      <td>56</td>\n",
       "      <td>358</td>\n",
       "      <td>110</td>\n",
       "    </tr>\n",
       "    <tr>\n",
       "      <td>3</td>\n",
       "      <td>8</td>\n",
       "      <td>Platox</td>\n",
       "      <td>Water</td>\n",
       "      <td>Toxic</td>\n",
       "      <td>62</td>\n",
       "      <td>44</td>\n",
       "      <td>74</td>\n",
       "      <td>50</td>\n",
       "      <td>35</td>\n",
       "      <td>76</td>\n",
       "      <td>63</td>\n",
       "      <td>404</td>\n",
       "      <td>124</td>\n",
       "    </tr>\n",
       "    <tr>\n",
       "      <td>4</td>\n",
       "      <td>9</td>\n",
       "      <td>Platimous</td>\n",
       "      <td>Water</td>\n",
       "      <td>Toxic</td>\n",
       "      <td>71</td>\n",
       "      <td>49</td>\n",
       "      <td>82</td>\n",
       "      <td>56</td>\n",
       "      <td>39</td>\n",
       "      <td>90</td>\n",
       "      <td>70</td>\n",
       "      <td>457</td>\n",
       "      <td>138</td>\n",
       "    </tr>\n",
       "    <tr>\n",
       "      <td>...</td>\n",
       "      <td>...</td>\n",
       "      <td>...</td>\n",
       "      <td>...</td>\n",
       "      <td>...</td>\n",
       "      <td>...</td>\n",
       "      <td>...</td>\n",
       "      <td>...</td>\n",
       "      <td>...</td>\n",
       "      <td>...</td>\n",
       "      <td>...</td>\n",
       "      <td>...</td>\n",
       "      <td>...</td>\n",
       "      <td>...</td>\n",
       "    </tr>\n",
       "    <tr>\n",
       "      <td>81</td>\n",
       "      <td>138</td>\n",
       "      <td>Vulvir</td>\n",
       "      <td>Fire</td>\n",
       "      <td>Earth</td>\n",
       "      <td>59</td>\n",
       "      <td>54</td>\n",
       "      <td>57</td>\n",
       "      <td>47</td>\n",
       "      <td>64</td>\n",
       "      <td>47</td>\n",
       "      <td>31</td>\n",
       "      <td>359</td>\n",
       "      <td>104</td>\n",
       "    </tr>\n",
       "    <tr>\n",
       "      <td>82</td>\n",
       "      <td>139</td>\n",
       "      <td>Vulor</td>\n",
       "      <td>Fire</td>\n",
       "      <td>Earth</td>\n",
       "      <td>65</td>\n",
       "      <td>59</td>\n",
       "      <td>63</td>\n",
       "      <td>49</td>\n",
       "      <td>71</td>\n",
       "      <td>49</td>\n",
       "      <td>32</td>\n",
       "      <td>388</td>\n",
       "      <td>112</td>\n",
       "    </tr>\n",
       "    <tr>\n",
       "      <td>83</td>\n",
       "      <td>140</td>\n",
       "      <td>Vulcrane</td>\n",
       "      <td>Fire</td>\n",
       "      <td>Earth</td>\n",
       "      <td>76</td>\n",
       "      <td>65</td>\n",
       "      <td>73</td>\n",
       "      <td>74</td>\n",
       "      <td>86</td>\n",
       "      <td>64</td>\n",
       "      <td>35</td>\n",
       "      <td>473</td>\n",
       "      <td>147</td>\n",
       "    </tr>\n",
       "    <tr>\n",
       "      <td>84</td>\n",
       "      <td>141</td>\n",
       "      <td>Pigepic</td>\n",
       "      <td>Wind</td>\n",
       "      <td>Wind</td>\n",
       "      <td>54</td>\n",
       "      <td>72</td>\n",
       "      <td>58</td>\n",
       "      <td>60</td>\n",
       "      <td>72</td>\n",
       "      <td>45</td>\n",
       "      <td>72</td>\n",
       "      <td>433</td>\n",
       "      <td>118</td>\n",
       "    </tr>\n",
       "    <tr>\n",
       "      <td>85</td>\n",
       "      <td>161</td>\n",
       "      <td>Anahir</td>\n",
       "      <td>Crystal</td>\n",
       "      <td>Fire</td>\n",
       "      <td>54</td>\n",
       "      <td>36</td>\n",
       "      <td>31</td>\n",
       "      <td>50</td>\n",
       "      <td>101</td>\n",
       "      <td>50</td>\n",
       "      <td>101</td>\n",
       "      <td>423</td>\n",
       "      <td>81</td>\n",
       "    </tr>\n",
       "  </tbody>\n",
       "</table>\n",
       "<p>81 rows × 13 columns</p>\n",
       "</div>"
      ],
      "text/plain": [
       "    No.     Temtem  Type(s)          Base Stats                               \\\n",
       "    No.     Temtem        1        2         HP STA SPD ATK  DEF SPATK SPDEF   \n",
       "0     2       Oree  Digital  Digital         61  74  35  65   44    32    31   \n",
       "1     3    Zaobian  Digital  Digital         75  90  51  84   50    42    44   \n",
       "2     7   Platypet    Water    Toxic         55  39  65  45   31    67    56   \n",
       "3     8     Platox    Water    Toxic         62  44  74  50   35    76    63   \n",
       "4     9  Platimous    Water    Toxic         71  49  82  56   39    90    70   \n",
       "..  ...        ...      ...      ...        ...  ..  ..  ..  ...   ...   ...   \n",
       "81  138     Vulvir     Fire    Earth         59  54  57  47   64    47    31   \n",
       "82  139      Vulor     Fire    Earth         65  59  63  49   71    49    32   \n",
       "83  140   Vulcrane     Fire    Earth         76  65  73  74   86    64    35   \n",
       "84  141    Pigepic     Wind     Wind         54  72  58  60   72    45    72   \n",
       "85  161     Anahir  Crystal     Fire         54  36  31  50  101    50   101   \n",
       "\n",
       "         Fastest_atk  \n",
       "   Total              \n",
       "0    342         100  \n",
       "1    436         135  \n",
       "2    358         110  \n",
       "3    404         124  \n",
       "4    457         138  \n",
       "..   ...         ...  \n",
       "81   359         104  \n",
       "82   388         112  \n",
       "83   473         147  \n",
       "84   433         118  \n",
       "85   423          81  \n",
       "\n",
       "[81 rows x 13 columns]"
      ]
     },
     "execution_count": 39,
     "metadata": {},
     "output_type": "execute_result"
    }
   ],
   "source": [
    "df2"
   ]
  },
  {
   "cell_type": "code",
   "execution_count": 16,
   "metadata": {},
   "outputs": [
    {
     "name": "stderr",
     "output_type": "stream",
     "text": [
      "C:\\Users\\edste\\Anaconda3\\lib\\site-packages\\ipykernel_launcher.py:2: SettingWithCopyWarning: \n",
      "A value is trying to be set on a copy of a slice from a DataFrame.\n",
      "Try using .loc[row_indexer,col_indexer] = value instead\n",
      "\n",
      "See the caveats in the documentation: http://pandas.pydata.org/pandas-docs/stable/user_guide/indexing.html#returning-a-view-versus-a-copy\n",
      "  \n"
     ]
    }
   ],
   "source": [
    "#same thing for special attack\n",
    "df2['Fastest_spatk'] = df2['Base Stats']['SPD']+df2['Base Stats']['SPATK']"
   ]
  },
  {
   "cell_type": "code",
   "execution_count": 15,
   "metadata": {},
   "outputs": [
    {
     "data": {
      "text/html": [
       "<div>\n",
       "<style scoped>\n",
       "    .dataframe tbody tr th:only-of-type {\n",
       "        vertical-align: middle;\n",
       "    }\n",
       "\n",
       "    .dataframe tbody tr th {\n",
       "        vertical-align: top;\n",
       "    }\n",
       "\n",
       "    .dataframe thead tr th {\n",
       "        text-align: left;\n",
       "    }\n",
       "</style>\n",
       "<table border=\"1\" class=\"dataframe\">\n",
       "  <thead>\n",
       "    <tr>\n",
       "      <th></th>\n",
       "      <th>No.</th>\n",
       "      <th>Temtem</th>\n",
       "      <th colspan=\"2\" halign=\"left\">Type(s)</th>\n",
       "      <th colspan=\"8\" halign=\"left\">Base Stats</th>\n",
       "      <th>Fastest_atk</th>\n",
       "      <th>Fastest_spatk</th>\n",
       "    </tr>\n",
       "    <tr>\n",
       "      <th></th>\n",
       "      <th>No.</th>\n",
       "      <th>Temtem</th>\n",
       "      <th>1</th>\n",
       "      <th>2</th>\n",
       "      <th>HP</th>\n",
       "      <th>STA</th>\n",
       "      <th>SPD</th>\n",
       "      <th>ATK</th>\n",
       "      <th>DEF</th>\n",
       "      <th>SPATK</th>\n",
       "      <th>SPDEF</th>\n",
       "      <th>Total</th>\n",
       "      <th></th>\n",
       "      <th></th>\n",
       "    </tr>\n",
       "  </thead>\n",
       "  <tbody>\n",
       "    <tr>\n",
       "      <td>0</td>\n",
       "      <td>2</td>\n",
       "      <td>Oree</td>\n",
       "      <td>Digital</td>\n",
       "      <td>Digital</td>\n",
       "      <td>61</td>\n",
       "      <td>74</td>\n",
       "      <td>35</td>\n",
       "      <td>65</td>\n",
       "      <td>44</td>\n",
       "      <td>32</td>\n",
       "      <td>31</td>\n",
       "      <td>342</td>\n",
       "      <td>100</td>\n",
       "      <td>67</td>\n",
       "    </tr>\n",
       "    <tr>\n",
       "      <td>1</td>\n",
       "      <td>3</td>\n",
       "      <td>Zaobian</td>\n",
       "      <td>Digital</td>\n",
       "      <td>Digital</td>\n",
       "      <td>75</td>\n",
       "      <td>90</td>\n",
       "      <td>51</td>\n",
       "      <td>84</td>\n",
       "      <td>50</td>\n",
       "      <td>42</td>\n",
       "      <td>44</td>\n",
       "      <td>436</td>\n",
       "      <td>135</td>\n",
       "      <td>93</td>\n",
       "    </tr>\n",
       "    <tr>\n",
       "      <td>2</td>\n",
       "      <td>7</td>\n",
       "      <td>Platypet</td>\n",
       "      <td>Water</td>\n",
       "      <td>Toxic</td>\n",
       "      <td>55</td>\n",
       "      <td>39</td>\n",
       "      <td>65</td>\n",
       "      <td>45</td>\n",
       "      <td>31</td>\n",
       "      <td>67</td>\n",
       "      <td>56</td>\n",
       "      <td>358</td>\n",
       "      <td>110</td>\n",
       "      <td>132</td>\n",
       "    </tr>\n",
       "    <tr>\n",
       "      <td>3</td>\n",
       "      <td>8</td>\n",
       "      <td>Platox</td>\n",
       "      <td>Water</td>\n",
       "      <td>Toxic</td>\n",
       "      <td>62</td>\n",
       "      <td>44</td>\n",
       "      <td>74</td>\n",
       "      <td>50</td>\n",
       "      <td>35</td>\n",
       "      <td>76</td>\n",
       "      <td>63</td>\n",
       "      <td>404</td>\n",
       "      <td>124</td>\n",
       "      <td>150</td>\n",
       "    </tr>\n",
       "    <tr>\n",
       "      <td>4</td>\n",
       "      <td>9</td>\n",
       "      <td>Platimous</td>\n",
       "      <td>Water</td>\n",
       "      <td>Toxic</td>\n",
       "      <td>71</td>\n",
       "      <td>49</td>\n",
       "      <td>82</td>\n",
       "      <td>56</td>\n",
       "      <td>39</td>\n",
       "      <td>90</td>\n",
       "      <td>70</td>\n",
       "      <td>457</td>\n",
       "      <td>138</td>\n",
       "      <td>172</td>\n",
       "    </tr>\n",
       "    <tr>\n",
       "      <td>...</td>\n",
       "      <td>...</td>\n",
       "      <td>...</td>\n",
       "      <td>...</td>\n",
       "      <td>...</td>\n",
       "      <td>...</td>\n",
       "      <td>...</td>\n",
       "      <td>...</td>\n",
       "      <td>...</td>\n",
       "      <td>...</td>\n",
       "      <td>...</td>\n",
       "      <td>...</td>\n",
       "      <td>...</td>\n",
       "      <td>...</td>\n",
       "      <td>...</td>\n",
       "    </tr>\n",
       "    <tr>\n",
       "      <td>81</td>\n",
       "      <td>138</td>\n",
       "      <td>Vulvir</td>\n",
       "      <td>Fire</td>\n",
       "      <td>Earth</td>\n",
       "      <td>59</td>\n",
       "      <td>54</td>\n",
       "      <td>57</td>\n",
       "      <td>47</td>\n",
       "      <td>64</td>\n",
       "      <td>47</td>\n",
       "      <td>31</td>\n",
       "      <td>359</td>\n",
       "      <td>104</td>\n",
       "      <td>104</td>\n",
       "    </tr>\n",
       "    <tr>\n",
       "      <td>82</td>\n",
       "      <td>139</td>\n",
       "      <td>Vulor</td>\n",
       "      <td>Fire</td>\n",
       "      <td>Earth</td>\n",
       "      <td>65</td>\n",
       "      <td>59</td>\n",
       "      <td>63</td>\n",
       "      <td>49</td>\n",
       "      <td>71</td>\n",
       "      <td>49</td>\n",
       "      <td>32</td>\n",
       "      <td>388</td>\n",
       "      <td>112</td>\n",
       "      <td>112</td>\n",
       "    </tr>\n",
       "    <tr>\n",
       "      <td>83</td>\n",
       "      <td>140</td>\n",
       "      <td>Vulcrane</td>\n",
       "      <td>Fire</td>\n",
       "      <td>Earth</td>\n",
       "      <td>76</td>\n",
       "      <td>65</td>\n",
       "      <td>73</td>\n",
       "      <td>74</td>\n",
       "      <td>86</td>\n",
       "      <td>64</td>\n",
       "      <td>35</td>\n",
       "      <td>473</td>\n",
       "      <td>147</td>\n",
       "      <td>137</td>\n",
       "    </tr>\n",
       "    <tr>\n",
       "      <td>84</td>\n",
       "      <td>141</td>\n",
       "      <td>Pigepic</td>\n",
       "      <td>Wind</td>\n",
       "      <td>Wind</td>\n",
       "      <td>54</td>\n",
       "      <td>72</td>\n",
       "      <td>58</td>\n",
       "      <td>60</td>\n",
       "      <td>72</td>\n",
       "      <td>45</td>\n",
       "      <td>72</td>\n",
       "      <td>433</td>\n",
       "      <td>118</td>\n",
       "      <td>103</td>\n",
       "    </tr>\n",
       "    <tr>\n",
       "      <td>85</td>\n",
       "      <td>161</td>\n",
       "      <td>Anahir</td>\n",
       "      <td>Crystal</td>\n",
       "      <td>Fire</td>\n",
       "      <td>54</td>\n",
       "      <td>36</td>\n",
       "      <td>31</td>\n",
       "      <td>50</td>\n",
       "      <td>101</td>\n",
       "      <td>50</td>\n",
       "      <td>101</td>\n",
       "      <td>423</td>\n",
       "      <td>81</td>\n",
       "      <td>81</td>\n",
       "    </tr>\n",
       "  </tbody>\n",
       "</table>\n",
       "<p>81 rows × 14 columns</p>\n",
       "</div>"
      ],
      "text/plain": [
       "    No.     Temtem  Type(s)          Base Stats                               \\\n",
       "    No.     Temtem        1        2         HP STA SPD ATK  DEF SPATK SPDEF   \n",
       "0     2       Oree  Digital  Digital         61  74  35  65   44    32    31   \n",
       "1     3    Zaobian  Digital  Digital         75  90  51  84   50    42    44   \n",
       "2     7   Platypet    Water    Toxic         55  39  65  45   31    67    56   \n",
       "3     8     Platox    Water    Toxic         62  44  74  50   35    76    63   \n",
       "4     9  Platimous    Water    Toxic         71  49  82  56   39    90    70   \n",
       "..  ...        ...      ...      ...        ...  ..  ..  ..  ...   ...   ...   \n",
       "81  138     Vulvir     Fire    Earth         59  54  57  47   64    47    31   \n",
       "82  139      Vulor     Fire    Earth         65  59  63  49   71    49    32   \n",
       "83  140   Vulcrane     Fire    Earth         76  65  73  74   86    64    35   \n",
       "84  141    Pigepic     Wind     Wind         54  72  58  60   72    45    72   \n",
       "85  161     Anahir  Crystal     Fire         54  36  31  50  101    50   101   \n",
       "\n",
       "         Fastest_atk Fastest_spatk  \n",
       "   Total                            \n",
       "0    342         100            67  \n",
       "1    436         135            93  \n",
       "2    358         110           132  \n",
       "3    404         124           150  \n",
       "4    457         138           172  \n",
       "..   ...         ...           ...  \n",
       "81   359         104           104  \n",
       "82   388         112           112  \n",
       "83   473         147           137  \n",
       "84   433         118           103  \n",
       "85   423          81            81  \n",
       "\n",
       "[81 rows x 14 columns]"
      ]
     },
     "execution_count": 15,
     "metadata": {},
     "output_type": "execute_result"
    }
   ],
   "source": [
    "df2"
   ]
  },
  {
   "cell_type": "code",
   "execution_count": 26,
   "metadata": {},
   "outputs": [
    {
     "data": {
      "text/html": [
       "<div>\n",
       "<style scoped>\n",
       "    .dataframe tbody tr th:only-of-type {\n",
       "        vertical-align: middle;\n",
       "    }\n",
       "\n",
       "    .dataframe tbody tr th {\n",
       "        vertical-align: top;\n",
       "    }\n",
       "\n",
       "    .dataframe thead tr th {\n",
       "        text-align: left;\n",
       "    }\n",
       "</style>\n",
       "<table border=\"1\" class=\"dataframe\">\n",
       "  <thead>\n",
       "    <tr>\n",
       "      <th></th>\n",
       "      <th>No.</th>\n",
       "      <th>Temtem</th>\n",
       "      <th colspan=\"2\" halign=\"left\">Type(s)</th>\n",
       "      <th colspan=\"8\" halign=\"left\">Base Stats</th>\n",
       "      <th>Fastest_atk</th>\n",
       "      <th>Fastest_spatk</th>\n",
       "    </tr>\n",
       "    <tr>\n",
       "      <th></th>\n",
       "      <th>No.</th>\n",
       "      <th>Temtem</th>\n",
       "      <th>1</th>\n",
       "      <th>2</th>\n",
       "      <th>HP</th>\n",
       "      <th>STA</th>\n",
       "      <th>SPD</th>\n",
       "      <th>ATK</th>\n",
       "      <th>DEF</th>\n",
       "      <th>SPATK</th>\n",
       "      <th>SPDEF</th>\n",
       "      <th>Total</th>\n",
       "      <th></th>\n",
       "      <th></th>\n",
       "    </tr>\n",
       "  </thead>\n",
       "  <tbody>\n",
       "    <tr>\n",
       "      <td>36</td>\n",
       "      <td>54</td>\n",
       "      <td>Gyalis</td>\n",
       "      <td>Crystal</td>\n",
       "      <td>Melee</td>\n",
       "      <td>86</td>\n",
       "      <td>44</td>\n",
       "      <td>100</td>\n",
       "      <td>85</td>\n",
       "      <td>61</td>\n",
       "      <td>23</td>\n",
       "      <td>61</td>\n",
       "      <td>460</td>\n",
       "      <td>185</td>\n",
       "      <td>123</td>\n",
       "    </tr>\n",
       "    <tr>\n",
       "      <td>49</td>\n",
       "      <td>82</td>\n",
       "      <td>Sparzy</td>\n",
       "      <td>Electric</td>\n",
       "      <td>Electric</td>\n",
       "      <td>70</td>\n",
       "      <td>80</td>\n",
       "      <td>85</td>\n",
       "      <td>85</td>\n",
       "      <td>46</td>\n",
       "      <td>42</td>\n",
       "      <td>46</td>\n",
       "      <td>454</td>\n",
       "      <td>170</td>\n",
       "      <td>127</td>\n",
       "    </tr>\n",
       "    <tr>\n",
       "      <td>34</td>\n",
       "      <td>50</td>\n",
       "      <td>Valash</td>\n",
       "      <td>Neutral</td>\n",
       "      <td>Crystal</td>\n",
       "      <td>58</td>\n",
       "      <td>57</td>\n",
       "      <td>90</td>\n",
       "      <td>74</td>\n",
       "      <td>56</td>\n",
       "      <td>74</td>\n",
       "      <td>56</td>\n",
       "      <td>465</td>\n",
       "      <td>164</td>\n",
       "      <td>164</td>\n",
       "    </tr>\n",
       "    <tr>\n",
       "      <td>51</td>\n",
       "      <td>85</td>\n",
       "      <td>Mushook</td>\n",
       "      <td>Toxic</td>\n",
       "      <td>Melee</td>\n",
       "      <td>67</td>\n",
       "      <td>45</td>\n",
       "      <td>81</td>\n",
       "      <td>81</td>\n",
       "      <td>80</td>\n",
       "      <td>49</td>\n",
       "      <td>41</td>\n",
       "      <td>444</td>\n",
       "      <td>162</td>\n",
       "      <td>130</td>\n",
       "    </tr>\n",
       "    <tr>\n",
       "      <td>26</td>\n",
       "      <td>38</td>\n",
       "      <td>Capyre</td>\n",
       "      <td>Fire</td>\n",
       "      <td>Fire</td>\n",
       "      <td>55</td>\n",
       "      <td>55</td>\n",
       "      <td>88</td>\n",
       "      <td>71</td>\n",
       "      <td>68</td>\n",
       "      <td>45</td>\n",
       "      <td>47</td>\n",
       "      <td>429</td>\n",
       "      <td>159</td>\n",
       "      <td>133</td>\n",
       "    </tr>\n",
       "    <tr>\n",
       "      <td>...</td>\n",
       "      <td>...</td>\n",
       "      <td>...</td>\n",
       "      <td>...</td>\n",
       "      <td>...</td>\n",
       "      <td>...</td>\n",
       "      <td>...</td>\n",
       "      <td>...</td>\n",
       "      <td>...</td>\n",
       "      <td>...</td>\n",
       "      <td>...</td>\n",
       "      <td>...</td>\n",
       "      <td>...</td>\n",
       "      <td>...</td>\n",
       "      <td>...</td>\n",
       "    </tr>\n",
       "    <tr>\n",
       "      <td>65</td>\n",
       "      <td>107</td>\n",
       "      <td>Blooze</td>\n",
       "      <td>Toxic</td>\n",
       "      <td>Toxic</td>\n",
       "      <td>68</td>\n",
       "      <td>50</td>\n",
       "      <td>33</td>\n",
       "      <td>43</td>\n",
       "      <td>52</td>\n",
       "      <td>46</td>\n",
       "      <td>54</td>\n",
       "      <td>346</td>\n",
       "      <td>76</td>\n",
       "      <td>79</td>\n",
       "    </tr>\n",
       "    <tr>\n",
       "      <td>42</td>\n",
       "      <td>60</td>\n",
       "      <td>Pewki</td>\n",
       "      <td>Water</td>\n",
       "      <td>Water</td>\n",
       "      <td>70</td>\n",
       "      <td>32</td>\n",
       "      <td>33</td>\n",
       "      <td>42</td>\n",
       "      <td>45</td>\n",
       "      <td>31</td>\n",
       "      <td>10</td>\n",
       "      <td>263</td>\n",
       "      <td>75</td>\n",
       "      <td>64</td>\n",
       "    </tr>\n",
       "    <tr>\n",
       "      <td>66</td>\n",
       "      <td>108</td>\n",
       "      <td>Goolder</td>\n",
       "      <td>Toxic</td>\n",
       "      <td>Toxic</td>\n",
       "      <td>120</td>\n",
       "      <td>70</td>\n",
       "      <td>10</td>\n",
       "      <td>64</td>\n",
       "      <td>56</td>\n",
       "      <td>68</td>\n",
       "      <td>56</td>\n",
       "      <td>444</td>\n",
       "      <td>74</td>\n",
       "      <td>78</td>\n",
       "    </tr>\n",
       "    <tr>\n",
       "      <td>32</td>\n",
       "      <td>48</td>\n",
       "      <td>Kaku</td>\n",
       "      <td>Nature</td>\n",
       "      <td>Nature</td>\n",
       "      <td>69</td>\n",
       "      <td>48</td>\n",
       "      <td>35</td>\n",
       "      <td>35</td>\n",
       "      <td>60</td>\n",
       "      <td>60</td>\n",
       "      <td>50</td>\n",
       "      <td>357</td>\n",
       "      <td>70</td>\n",
       "      <td>95</td>\n",
       "    </tr>\n",
       "    <tr>\n",
       "      <td>17</td>\n",
       "      <td>25</td>\n",
       "      <td>Fomu</td>\n",
       "      <td>Water</td>\n",
       "      <td>Water</td>\n",
       "      <td>40</td>\n",
       "      <td>60</td>\n",
       "      <td>40</td>\n",
       "      <td>30</td>\n",
       "      <td>35</td>\n",
       "      <td>65</td>\n",
       "      <td>70</td>\n",
       "      <td>340</td>\n",
       "      <td>70</td>\n",
       "      <td>105</td>\n",
       "    </tr>\n",
       "  </tbody>\n",
       "</table>\n",
       "<p>81 rows × 14 columns</p>\n",
       "</div>"
      ],
      "text/plain": [
       "    No.   Temtem   Type(s)           Base Stats                               \\\n",
       "    No.   Temtem         1         2         HP STA  SPD ATK DEF SPATK SPDEF   \n",
       "36   54   Gyalis   Crystal     Melee         86  44  100  85  61    23    61   \n",
       "49   82   Sparzy  Electric  Electric         70  80   85  85  46    42    46   \n",
       "34   50   Valash   Neutral   Crystal         58  57   90  74  56    74    56   \n",
       "51   85  Mushook     Toxic     Melee         67  45   81  81  80    49    41   \n",
       "26   38   Capyre      Fire      Fire         55  55   88  71  68    45    47   \n",
       "..  ...      ...       ...       ...        ...  ..  ...  ..  ..   ...   ...   \n",
       "65  107   Blooze     Toxic     Toxic         68  50   33  43  52    46    54   \n",
       "42   60    Pewki     Water     Water         70  32   33  42  45    31    10   \n",
       "66  108  Goolder     Toxic     Toxic        120  70   10  64  56    68    56   \n",
       "32   48     Kaku    Nature    Nature         69  48   35  35  60    60    50   \n",
       "17   25     Fomu     Water     Water         40  60   40  30  35    65    70   \n",
       "\n",
       "         Fastest_atk Fastest_spatk  \n",
       "   Total                            \n",
       "36   460         185           123  \n",
       "49   454         170           127  \n",
       "34   465         164           164  \n",
       "51   444         162           130  \n",
       "26   429         159           133  \n",
       "..   ...         ...           ...  \n",
       "65   346          76            79  \n",
       "42   263          75            64  \n",
       "66   444          74            78  \n",
       "32   357          70            95  \n",
       "17   340          70           105  \n",
       "\n",
       "[81 rows x 14 columns]"
      ]
     },
     "execution_count": 26,
     "metadata": {},
     "output_type": "execute_result"
    }
   ],
   "source": [
    "df2.sort_values('Fastest_atk', ascending = False)"
   ]
  },
  {
   "cell_type": "code",
   "execution_count": 27,
   "metadata": {},
   "outputs": [
    {
     "data": {
      "text/html": [
       "<div>\n",
       "<style scoped>\n",
       "    .dataframe tbody tr th:only-of-type {\n",
       "        vertical-align: middle;\n",
       "    }\n",
       "\n",
       "    .dataframe tbody tr th {\n",
       "        vertical-align: top;\n",
       "    }\n",
       "\n",
       "    .dataframe thead tr th {\n",
       "        text-align: left;\n",
       "    }\n",
       "</style>\n",
       "<table border=\"1\" class=\"dataframe\">\n",
       "  <thead>\n",
       "    <tr>\n",
       "      <th></th>\n",
       "      <th>No.</th>\n",
       "      <th>Temtem</th>\n",
       "      <th colspan=\"2\" halign=\"left\">Type(s)</th>\n",
       "      <th colspan=\"8\" halign=\"left\">Base Stats</th>\n",
       "      <th>Fastest_atk</th>\n",
       "      <th>Fastest_spatk</th>\n",
       "    </tr>\n",
       "    <tr>\n",
       "      <th></th>\n",
       "      <th>No.</th>\n",
       "      <th>Temtem</th>\n",
       "      <th>1</th>\n",
       "      <th>2</th>\n",
       "      <th>HP</th>\n",
       "      <th>STA</th>\n",
       "      <th>SPD</th>\n",
       "      <th>ATK</th>\n",
       "      <th>DEF</th>\n",
       "      <th>SPATK</th>\n",
       "      <th>SPDEF</th>\n",
       "      <th>Total</th>\n",
       "      <th></th>\n",
       "      <th></th>\n",
       "    </tr>\n",
       "  </thead>\n",
       "  <tbody>\n",
       "    <tr>\n",
       "      <td>71</td>\n",
       "      <td>115</td>\n",
       "      <td>Oceara</td>\n",
       "      <td>Water</td>\n",
       "      <td>Water</td>\n",
       "      <td>64</td>\n",
       "      <td>42</td>\n",
       "      <td>100</td>\n",
       "      <td>54</td>\n",
       "      <td>51</td>\n",
       "      <td>110</td>\n",
       "      <td>65</td>\n",
       "      <td>486</td>\n",
       "      <td>154</td>\n",
       "      <td>210</td>\n",
       "    </tr>\n",
       "    <tr>\n",
       "      <td>55</td>\n",
       "      <td>89</td>\n",
       "      <td>Ukama</td>\n",
       "      <td>Water</td>\n",
       "      <td>Water</td>\n",
       "      <td>68</td>\n",
       "      <td>90</td>\n",
       "      <td>100</td>\n",
       "      <td>34</td>\n",
       "      <td>51</td>\n",
       "      <td>76</td>\n",
       "      <td>54</td>\n",
       "      <td>473</td>\n",
       "      <td>134</td>\n",
       "      <td>176</td>\n",
       "    </tr>\n",
       "    <tr>\n",
       "      <td>14</td>\n",
       "      <td>22</td>\n",
       "      <td>Mudrid</td>\n",
       "      <td>Earth</td>\n",
       "      <td>Crystal</td>\n",
       "      <td>85</td>\n",
       "      <td>44</td>\n",
       "      <td>95</td>\n",
       "      <td>60</td>\n",
       "      <td>42</td>\n",
       "      <td>80</td>\n",
       "      <td>50</td>\n",
       "      <td>456</td>\n",
       "      <td>155</td>\n",
       "      <td>175</td>\n",
       "    </tr>\n",
       "    <tr>\n",
       "      <td>4</td>\n",
       "      <td>9</td>\n",
       "      <td>Platimous</td>\n",
       "      <td>Water</td>\n",
       "      <td>Toxic</td>\n",
       "      <td>71</td>\n",
       "      <td>49</td>\n",
       "      <td>82</td>\n",
       "      <td>56</td>\n",
       "      <td>39</td>\n",
       "      <td>90</td>\n",
       "      <td>70</td>\n",
       "      <td>457</td>\n",
       "      <td>138</td>\n",
       "      <td>172</td>\n",
       "    </tr>\n",
       "    <tr>\n",
       "      <td>18</td>\n",
       "      <td>26</td>\n",
       "      <td>Wiplump</td>\n",
       "      <td>Water</td>\n",
       "      <td>Wind</td>\n",
       "      <td>66</td>\n",
       "      <td>80</td>\n",
       "      <td>70</td>\n",
       "      <td>40</td>\n",
       "      <td>50</td>\n",
       "      <td>95</td>\n",
       "      <td>80</td>\n",
       "      <td>481</td>\n",
       "      <td>110</td>\n",
       "      <td>165</td>\n",
       "    </tr>\n",
       "    <tr>\n",
       "      <td>...</td>\n",
       "      <td>...</td>\n",
       "      <td>...</td>\n",
       "      <td>...</td>\n",
       "      <td>...</td>\n",
       "      <td>...</td>\n",
       "      <td>...</td>\n",
       "      <td>...</td>\n",
       "      <td>...</td>\n",
       "      <td>...</td>\n",
       "      <td>...</td>\n",
       "      <td>...</td>\n",
       "      <td>...</td>\n",
       "      <td>...</td>\n",
       "      <td>...</td>\n",
       "    </tr>\n",
       "    <tr>\n",
       "      <td>66</td>\n",
       "      <td>108</td>\n",
       "      <td>Goolder</td>\n",
       "      <td>Toxic</td>\n",
       "      <td>Toxic</td>\n",
       "      <td>120</td>\n",
       "      <td>70</td>\n",
       "      <td>10</td>\n",
       "      <td>64</td>\n",
       "      <td>56</td>\n",
       "      <td>68</td>\n",
       "      <td>56</td>\n",
       "      <td>444</td>\n",
       "      <td>74</td>\n",
       "      <td>78</td>\n",
       "    </tr>\n",
       "    <tr>\n",
       "      <td>0</td>\n",
       "      <td>2</td>\n",
       "      <td>Oree</td>\n",
       "      <td>Digital</td>\n",
       "      <td>Digital</td>\n",
       "      <td>61</td>\n",
       "      <td>74</td>\n",
       "      <td>35</td>\n",
       "      <td>65</td>\n",
       "      <td>44</td>\n",
       "      <td>32</td>\n",
       "      <td>31</td>\n",
       "      <td>342</td>\n",
       "      <td>100</td>\n",
       "      <td>67</td>\n",
       "    </tr>\n",
       "    <tr>\n",
       "      <td>75</td>\n",
       "      <td>127</td>\n",
       "      <td>Kalazu</td>\n",
       "      <td>Water</td>\n",
       "      <td>Water</td>\n",
       "      <td>63</td>\n",
       "      <td>24</td>\n",
       "      <td>28</td>\n",
       "      <td>54</td>\n",
       "      <td>70</td>\n",
       "      <td>38</td>\n",
       "      <td>44</td>\n",
       "      <td>321</td>\n",
       "      <td>82</td>\n",
       "      <td>66</td>\n",
       "    </tr>\n",
       "    <tr>\n",
       "      <td>42</td>\n",
       "      <td>60</td>\n",
       "      <td>Pewki</td>\n",
       "      <td>Water</td>\n",
       "      <td>Water</td>\n",
       "      <td>70</td>\n",
       "      <td>32</td>\n",
       "      <td>33</td>\n",
       "      <td>42</td>\n",
       "      <td>45</td>\n",
       "      <td>31</td>\n",
       "      <td>10</td>\n",
       "      <td>263</td>\n",
       "      <td>75</td>\n",
       "      <td>64</td>\n",
       "    </tr>\n",
       "    <tr>\n",
       "      <td>30</td>\n",
       "      <td>44</td>\n",
       "      <td>Bigu</td>\n",
       "      <td>Nature</td>\n",
       "      <td>Nature</td>\n",
       "      <td>55</td>\n",
       "      <td>68</td>\n",
       "      <td>20</td>\n",
       "      <td>65</td>\n",
       "      <td>38</td>\n",
       "      <td>41</td>\n",
       "      <td>42</td>\n",
       "      <td>329</td>\n",
       "      <td>85</td>\n",
       "      <td>61</td>\n",
       "    </tr>\n",
       "  </tbody>\n",
       "</table>\n",
       "<p>81 rows × 14 columns</p>\n",
       "</div>"
      ],
      "text/plain": [
       "    No.     Temtem  Type(s)          Base Stats                               \\\n",
       "    No.     Temtem        1        2         HP STA  SPD ATK DEF SPATK SPDEF   \n",
       "71  115     Oceara    Water    Water         64  42  100  54  51   110    65   \n",
       "55   89      Ukama    Water    Water         68  90  100  34  51    76    54   \n",
       "14   22     Mudrid    Earth  Crystal         85  44   95  60  42    80    50   \n",
       "4     9  Platimous    Water    Toxic         71  49   82  56  39    90    70   \n",
       "18   26    Wiplump    Water     Wind         66  80   70  40  50    95    80   \n",
       "..  ...        ...      ...      ...        ...  ..  ...  ..  ..   ...   ...   \n",
       "66  108    Goolder    Toxic    Toxic        120  70   10  64  56    68    56   \n",
       "0     2       Oree  Digital  Digital         61  74   35  65  44    32    31   \n",
       "75  127     Kalazu    Water    Water         63  24   28  54  70    38    44   \n",
       "42   60      Pewki    Water    Water         70  32   33  42  45    31    10   \n",
       "30   44       Bigu   Nature   Nature         55  68   20  65  38    41    42   \n",
       "\n",
       "         Fastest_atk Fastest_spatk  \n",
       "   Total                            \n",
       "71   486         154           210  \n",
       "55   473         134           176  \n",
       "14   456         155           175  \n",
       "4    457         138           172  \n",
       "18   481         110           165  \n",
       "..   ...         ...           ...  \n",
       "66   444          74            78  \n",
       "0    342         100            67  \n",
       "75   321          82            66  \n",
       "42   263          75            64  \n",
       "30   329          85            61  \n",
       "\n",
       "[81 rows x 14 columns]"
      ]
     },
     "execution_count": 27,
     "metadata": {},
     "output_type": "execute_result"
    }
   ],
   "source": [
    "df2.sort_values('Fastest_spatk', ascending = False)"
   ]
  },
  {
   "cell_type": "code",
   "execution_count": 45,
   "metadata": {},
   "outputs": [],
   "source": [
    "fastestatk = df2['Fastest_atk']\n",
    "temtem =df2['Temtem']['Temtem']\n",
    "fastestspatk = df2['Fastest_spatk']"
   ]
  },
  {
   "cell_type": "code",
   "execution_count": 64,
   "metadata": {},
   "outputs": [],
   "source": [
    "fig = px.bar(x = temtem,y = fastestatk, color = fastestatk, labels={'x':'temtem', 'y': 'Atk + Spd'})"
   ]
  },
  {
   "cell_type": "code",
   "execution_count": 65,
   "metadata": {},
   "outputs": [
    {
     "data": {
      "application/vnd.plotly.v1+json": {
       "config": {
        "plotlyServerURL": "https://plot.ly"
       },
       "data": [
        {
         "alignmentgroup": "True",
         "hovertemplate": "temtem=%{x}<br>Atk + Spd=%{y}<br>color=%{marker.color}<extra></extra>",
         "legendgroup": "",
         "marker": {
          "color": [
           100,
           135,
           110,
           124,
           138,
           85,
           140,
           138,
           100,
           120,
           133,
           119,
           155,
           81,
           95,
           70,
           110,
           105,
           145,
           106,
           118,
           143,
           149,
           120,
           159,
           90,
           108,
           123,
           85,
           119,
           70,
           80,
           164,
           125,
           185,
           95,
           116,
           82,
           86,
           137,
           75,
           132,
           150,
           94,
           112,
           120,
           147,
           170,
           116,
           162,
           92,
           143,
           101,
           134,
           135,
           154,
           107,
           118,
           139,
           97,
           122,
           76,
           74,
           111,
           125,
           118,
           135,
           154,
           148,
           142,
           82,
           112,
           89,
           120,
           130,
           127,
           104,
           112,
           147,
           118,
           81
          ],
          "coloraxis": "coloraxis"
         },
         "name": "",
         "offsetgroup": "",
         "orientation": "v",
         "showlegend": false,
         "textposition": "auto",
         "type": "bar",
         "x": [
          "Oree",
          "Zaobian",
          "Platypet",
          "Platox",
          "Platimous",
          "Swali",
          "Loali",
          "Tateru",
          "Paharo",
          "Paharac",
          "Granpah",
          "Bunbun",
          "Mudrid",
          "Hidody",
          "Taifu",
          "Fomu",
          "Wiplump",
          "Skail",
          "Skunch",
          "Houchic",
          "Tental",
          "Orphyll",
          "Nidrasil",
          "Banapi",
          "Capyre",
          "Lapinite",
          "Azuroc",
          "Zenoreth",
          "Bigu",
          "Babawa",
          "Kaku",
          "Saku",
          "Valash",
          "Barnshe",
          "Gyalis",
          "Occlura",
          "Myx",
          "Raiber",
          "Raize",
          "Raican",
          "Pewki",
          "Piraniant",
          "Saipat",
          "Crystle",
          "Sherald",
          "Hocus",
          "Pocus",
          "Sparzy",
          "Mushi",
          "Mushook",
          "Magmis",
          "Mastione",
          "Umishi",
          "Ukama",
          "Smazee",
          "Baboong",
          "Spriole",
          "Deendre",
          "Cerneaf",
          "Toxolotl",
          "Noxolotl",
          "Blooze",
          "Goolder",
          "Zephyruff",
          "Volarend",
          "Ganki",
          "Gazuma",
          "Oceara",
          "Shuine",
          "Nessla",
          "Kalazu",
          "Kalabyss",
          "Adoroboros",
          "Tuwai",
          "Tuvine",
          "Kinu",
          "Vulvir",
          "Vulor",
          "Vulcrane",
          "Pigepic",
          "Anahir"
         ],
         "xaxis": "x",
         "y": [
          100,
          135,
          110,
          124,
          138,
          85,
          140,
          138,
          100,
          120,
          133,
          119,
          155,
          81,
          95,
          70,
          110,
          105,
          145,
          106,
          118,
          143,
          149,
          120,
          159,
          90,
          108,
          123,
          85,
          119,
          70,
          80,
          164,
          125,
          185,
          95,
          116,
          82,
          86,
          137,
          75,
          132,
          150,
          94,
          112,
          120,
          147,
          170,
          116,
          162,
          92,
          143,
          101,
          134,
          135,
          154,
          107,
          118,
          139,
          97,
          122,
          76,
          74,
          111,
          125,
          118,
          135,
          154,
          148,
          142,
          82,
          112,
          89,
          120,
          130,
          127,
          104,
          112,
          147,
          118,
          81
         ],
         "yaxis": "y"
        }
       ],
       "layout": {
        "barmode": "relative",
        "coloraxis": {
         "colorbar": {
          "title": {
           "text": "color"
          }
         },
         "colorscale": [
          [
           0,
           "#0d0887"
          ],
          [
           0.1111111111111111,
           "#46039f"
          ],
          [
           0.2222222222222222,
           "#7201a8"
          ],
          [
           0.3333333333333333,
           "#9c179e"
          ],
          [
           0.4444444444444444,
           "#bd3786"
          ],
          [
           0.5555555555555556,
           "#d8576b"
          ],
          [
           0.6666666666666666,
           "#ed7953"
          ],
          [
           0.7777777777777778,
           "#fb9f3a"
          ],
          [
           0.8888888888888888,
           "#fdca26"
          ],
          [
           1,
           "#f0f921"
          ]
         ]
        },
        "legend": {
         "tracegroupgap": 0
        },
        "margin": {
         "t": 60
        },
        "template": {
         "data": {
          "bar": [
           {
            "error_x": {
             "color": "#2a3f5f"
            },
            "error_y": {
             "color": "#2a3f5f"
            },
            "marker": {
             "line": {
              "color": "#E5ECF6",
              "width": 0.5
             }
            },
            "type": "bar"
           }
          ],
          "barpolar": [
           {
            "marker": {
             "line": {
              "color": "#E5ECF6",
              "width": 0.5
             }
            },
            "type": "barpolar"
           }
          ],
          "carpet": [
           {
            "aaxis": {
             "endlinecolor": "#2a3f5f",
             "gridcolor": "white",
             "linecolor": "white",
             "minorgridcolor": "white",
             "startlinecolor": "#2a3f5f"
            },
            "baxis": {
             "endlinecolor": "#2a3f5f",
             "gridcolor": "white",
             "linecolor": "white",
             "minorgridcolor": "white",
             "startlinecolor": "#2a3f5f"
            },
            "type": "carpet"
           }
          ],
          "choropleth": [
           {
            "colorbar": {
             "outlinewidth": 0,
             "ticks": ""
            },
            "type": "choropleth"
           }
          ],
          "contour": [
           {
            "colorbar": {
             "outlinewidth": 0,
             "ticks": ""
            },
            "colorscale": [
             [
              0,
              "#0d0887"
             ],
             [
              0.1111111111111111,
              "#46039f"
             ],
             [
              0.2222222222222222,
              "#7201a8"
             ],
             [
              0.3333333333333333,
              "#9c179e"
             ],
             [
              0.4444444444444444,
              "#bd3786"
             ],
             [
              0.5555555555555556,
              "#d8576b"
             ],
             [
              0.6666666666666666,
              "#ed7953"
             ],
             [
              0.7777777777777778,
              "#fb9f3a"
             ],
             [
              0.8888888888888888,
              "#fdca26"
             ],
             [
              1,
              "#f0f921"
             ]
            ],
            "type": "contour"
           }
          ],
          "contourcarpet": [
           {
            "colorbar": {
             "outlinewidth": 0,
             "ticks": ""
            },
            "type": "contourcarpet"
           }
          ],
          "heatmap": [
           {
            "colorbar": {
             "outlinewidth": 0,
             "ticks": ""
            },
            "colorscale": [
             [
              0,
              "#0d0887"
             ],
             [
              0.1111111111111111,
              "#46039f"
             ],
             [
              0.2222222222222222,
              "#7201a8"
             ],
             [
              0.3333333333333333,
              "#9c179e"
             ],
             [
              0.4444444444444444,
              "#bd3786"
             ],
             [
              0.5555555555555556,
              "#d8576b"
             ],
             [
              0.6666666666666666,
              "#ed7953"
             ],
             [
              0.7777777777777778,
              "#fb9f3a"
             ],
             [
              0.8888888888888888,
              "#fdca26"
             ],
             [
              1,
              "#f0f921"
             ]
            ],
            "type": "heatmap"
           }
          ],
          "heatmapgl": [
           {
            "colorbar": {
             "outlinewidth": 0,
             "ticks": ""
            },
            "colorscale": [
             [
              0,
              "#0d0887"
             ],
             [
              0.1111111111111111,
              "#46039f"
             ],
             [
              0.2222222222222222,
              "#7201a8"
             ],
             [
              0.3333333333333333,
              "#9c179e"
             ],
             [
              0.4444444444444444,
              "#bd3786"
             ],
             [
              0.5555555555555556,
              "#d8576b"
             ],
             [
              0.6666666666666666,
              "#ed7953"
             ],
             [
              0.7777777777777778,
              "#fb9f3a"
             ],
             [
              0.8888888888888888,
              "#fdca26"
             ],
             [
              1,
              "#f0f921"
             ]
            ],
            "type": "heatmapgl"
           }
          ],
          "histogram": [
           {
            "marker": {
             "colorbar": {
              "outlinewidth": 0,
              "ticks": ""
             }
            },
            "type": "histogram"
           }
          ],
          "histogram2d": [
           {
            "colorbar": {
             "outlinewidth": 0,
             "ticks": ""
            },
            "colorscale": [
             [
              0,
              "#0d0887"
             ],
             [
              0.1111111111111111,
              "#46039f"
             ],
             [
              0.2222222222222222,
              "#7201a8"
             ],
             [
              0.3333333333333333,
              "#9c179e"
             ],
             [
              0.4444444444444444,
              "#bd3786"
             ],
             [
              0.5555555555555556,
              "#d8576b"
             ],
             [
              0.6666666666666666,
              "#ed7953"
             ],
             [
              0.7777777777777778,
              "#fb9f3a"
             ],
             [
              0.8888888888888888,
              "#fdca26"
             ],
             [
              1,
              "#f0f921"
             ]
            ],
            "type": "histogram2d"
           }
          ],
          "histogram2dcontour": [
           {
            "colorbar": {
             "outlinewidth": 0,
             "ticks": ""
            },
            "colorscale": [
             [
              0,
              "#0d0887"
             ],
             [
              0.1111111111111111,
              "#46039f"
             ],
             [
              0.2222222222222222,
              "#7201a8"
             ],
             [
              0.3333333333333333,
              "#9c179e"
             ],
             [
              0.4444444444444444,
              "#bd3786"
             ],
             [
              0.5555555555555556,
              "#d8576b"
             ],
             [
              0.6666666666666666,
              "#ed7953"
             ],
             [
              0.7777777777777778,
              "#fb9f3a"
             ],
             [
              0.8888888888888888,
              "#fdca26"
             ],
             [
              1,
              "#f0f921"
             ]
            ],
            "type": "histogram2dcontour"
           }
          ],
          "mesh3d": [
           {
            "colorbar": {
             "outlinewidth": 0,
             "ticks": ""
            },
            "type": "mesh3d"
           }
          ],
          "parcoords": [
           {
            "line": {
             "colorbar": {
              "outlinewidth": 0,
              "ticks": ""
             }
            },
            "type": "parcoords"
           }
          ],
          "pie": [
           {
            "automargin": true,
            "type": "pie"
           }
          ],
          "scatter": [
           {
            "marker": {
             "colorbar": {
              "outlinewidth": 0,
              "ticks": ""
             }
            },
            "type": "scatter"
           }
          ],
          "scatter3d": [
           {
            "line": {
             "colorbar": {
              "outlinewidth": 0,
              "ticks": ""
             }
            },
            "marker": {
             "colorbar": {
              "outlinewidth": 0,
              "ticks": ""
             }
            },
            "type": "scatter3d"
           }
          ],
          "scattercarpet": [
           {
            "marker": {
             "colorbar": {
              "outlinewidth": 0,
              "ticks": ""
             }
            },
            "type": "scattercarpet"
           }
          ],
          "scattergeo": [
           {
            "marker": {
             "colorbar": {
              "outlinewidth": 0,
              "ticks": ""
             }
            },
            "type": "scattergeo"
           }
          ],
          "scattergl": [
           {
            "marker": {
             "colorbar": {
              "outlinewidth": 0,
              "ticks": ""
             }
            },
            "type": "scattergl"
           }
          ],
          "scattermapbox": [
           {
            "marker": {
             "colorbar": {
              "outlinewidth": 0,
              "ticks": ""
             }
            },
            "type": "scattermapbox"
           }
          ],
          "scatterpolar": [
           {
            "marker": {
             "colorbar": {
              "outlinewidth": 0,
              "ticks": ""
             }
            },
            "type": "scatterpolar"
           }
          ],
          "scatterpolargl": [
           {
            "marker": {
             "colorbar": {
              "outlinewidth": 0,
              "ticks": ""
             }
            },
            "type": "scatterpolargl"
           }
          ],
          "scatterternary": [
           {
            "marker": {
             "colorbar": {
              "outlinewidth": 0,
              "ticks": ""
             }
            },
            "type": "scatterternary"
           }
          ],
          "surface": [
           {
            "colorbar": {
             "outlinewidth": 0,
             "ticks": ""
            },
            "colorscale": [
             [
              0,
              "#0d0887"
             ],
             [
              0.1111111111111111,
              "#46039f"
             ],
             [
              0.2222222222222222,
              "#7201a8"
             ],
             [
              0.3333333333333333,
              "#9c179e"
             ],
             [
              0.4444444444444444,
              "#bd3786"
             ],
             [
              0.5555555555555556,
              "#d8576b"
             ],
             [
              0.6666666666666666,
              "#ed7953"
             ],
             [
              0.7777777777777778,
              "#fb9f3a"
             ],
             [
              0.8888888888888888,
              "#fdca26"
             ],
             [
              1,
              "#f0f921"
             ]
            ],
            "type": "surface"
           }
          ],
          "table": [
           {
            "cells": {
             "fill": {
              "color": "#EBF0F8"
             },
             "line": {
              "color": "white"
             }
            },
            "header": {
             "fill": {
              "color": "#C8D4E3"
             },
             "line": {
              "color": "white"
             }
            },
            "type": "table"
           }
          ]
         },
         "layout": {
          "annotationdefaults": {
           "arrowcolor": "#2a3f5f",
           "arrowhead": 0,
           "arrowwidth": 1
          },
          "coloraxis": {
           "colorbar": {
            "outlinewidth": 0,
            "ticks": ""
           }
          },
          "colorscale": {
           "diverging": [
            [
             0,
             "#8e0152"
            ],
            [
             0.1,
             "#c51b7d"
            ],
            [
             0.2,
             "#de77ae"
            ],
            [
             0.3,
             "#f1b6da"
            ],
            [
             0.4,
             "#fde0ef"
            ],
            [
             0.5,
             "#f7f7f7"
            ],
            [
             0.6,
             "#e6f5d0"
            ],
            [
             0.7,
             "#b8e186"
            ],
            [
             0.8,
             "#7fbc41"
            ],
            [
             0.9,
             "#4d9221"
            ],
            [
             1,
             "#276419"
            ]
           ],
           "sequential": [
            [
             0,
             "#0d0887"
            ],
            [
             0.1111111111111111,
             "#46039f"
            ],
            [
             0.2222222222222222,
             "#7201a8"
            ],
            [
             0.3333333333333333,
             "#9c179e"
            ],
            [
             0.4444444444444444,
             "#bd3786"
            ],
            [
             0.5555555555555556,
             "#d8576b"
            ],
            [
             0.6666666666666666,
             "#ed7953"
            ],
            [
             0.7777777777777778,
             "#fb9f3a"
            ],
            [
             0.8888888888888888,
             "#fdca26"
            ],
            [
             1,
             "#f0f921"
            ]
           ],
           "sequentialminus": [
            [
             0,
             "#0d0887"
            ],
            [
             0.1111111111111111,
             "#46039f"
            ],
            [
             0.2222222222222222,
             "#7201a8"
            ],
            [
             0.3333333333333333,
             "#9c179e"
            ],
            [
             0.4444444444444444,
             "#bd3786"
            ],
            [
             0.5555555555555556,
             "#d8576b"
            ],
            [
             0.6666666666666666,
             "#ed7953"
            ],
            [
             0.7777777777777778,
             "#fb9f3a"
            ],
            [
             0.8888888888888888,
             "#fdca26"
            ],
            [
             1,
             "#f0f921"
            ]
           ]
          },
          "colorway": [
           "#636efa",
           "#EF553B",
           "#00cc96",
           "#ab63fa",
           "#FFA15A",
           "#19d3f3",
           "#FF6692",
           "#B6E880",
           "#FF97FF",
           "#FECB52"
          ],
          "font": {
           "color": "#2a3f5f"
          },
          "geo": {
           "bgcolor": "white",
           "lakecolor": "white",
           "landcolor": "#E5ECF6",
           "showlakes": true,
           "showland": true,
           "subunitcolor": "white"
          },
          "hoverlabel": {
           "align": "left"
          },
          "hovermode": "closest",
          "mapbox": {
           "style": "light"
          },
          "paper_bgcolor": "white",
          "plot_bgcolor": "#E5ECF6",
          "polar": {
           "angularaxis": {
            "gridcolor": "white",
            "linecolor": "white",
            "ticks": ""
           },
           "bgcolor": "#E5ECF6",
           "radialaxis": {
            "gridcolor": "white",
            "linecolor": "white",
            "ticks": ""
           }
          },
          "scene": {
           "xaxis": {
            "backgroundcolor": "#E5ECF6",
            "gridcolor": "white",
            "gridwidth": 2,
            "linecolor": "white",
            "showbackground": true,
            "ticks": "",
            "zerolinecolor": "white"
           },
           "yaxis": {
            "backgroundcolor": "#E5ECF6",
            "gridcolor": "white",
            "gridwidth": 2,
            "linecolor": "white",
            "showbackground": true,
            "ticks": "",
            "zerolinecolor": "white"
           },
           "zaxis": {
            "backgroundcolor": "#E5ECF6",
            "gridcolor": "white",
            "gridwidth": 2,
            "linecolor": "white",
            "showbackground": true,
            "ticks": "",
            "zerolinecolor": "white"
           }
          },
          "shapedefaults": {
           "line": {
            "color": "#2a3f5f"
           }
          },
          "ternary": {
           "aaxis": {
            "gridcolor": "white",
            "linecolor": "white",
            "ticks": ""
           },
           "baxis": {
            "gridcolor": "white",
            "linecolor": "white",
            "ticks": ""
           },
           "bgcolor": "#E5ECF6",
           "caxis": {
            "gridcolor": "white",
            "linecolor": "white",
            "ticks": ""
           }
          },
          "title": {
           "x": 0.05
          },
          "xaxis": {
           "automargin": true,
           "gridcolor": "white",
           "linecolor": "white",
           "ticks": "",
           "title": {
            "standoff": 15
           },
           "zerolinecolor": "white",
           "zerolinewidth": 2
          },
          "yaxis": {
           "automargin": true,
           "gridcolor": "white",
           "linecolor": "white",
           "ticks": "",
           "title": {
            "standoff": 15
           },
           "zerolinecolor": "white",
           "zerolinewidth": 2
          }
         }
        },
        "xaxis": {
         "anchor": "y",
         "domain": [
          0,
          1
         ],
         "title": {
          "text": "temtem"
         }
        },
        "yaxis": {
         "anchor": "x",
         "domain": [
          0,
          1
         ],
         "title": {
          "text": "Atk + Spd"
         }
        }
       }
      },
      "text/html": [
       "<div>\n",
       "        \n",
       "        \n",
       "            <div id=\"7bac15ad-e552-455f-939c-9a471e00953f\" class=\"plotly-graph-div\" style=\"height:525px; width:100%;\"></div>\n",
       "            <script type=\"text/javascript\">\n",
       "                require([\"plotly\"], function(Plotly) {\n",
       "                    window.PLOTLYENV=window.PLOTLYENV || {};\n",
       "                    \n",
       "                if (document.getElementById(\"7bac15ad-e552-455f-939c-9a471e00953f\")) {\n",
       "                    Plotly.newPlot(\n",
       "                        '7bac15ad-e552-455f-939c-9a471e00953f',\n",
       "                        [{\"alignmentgroup\": \"True\", \"hovertemplate\": \"temtem=%{x}<br>Atk + Spd=%{y}<br>color=%{marker.color}<extra></extra>\", \"legendgroup\": \"\", \"marker\": {\"color\": [100, 135, 110, 124, 138, 85, 140, 138, 100, 120, 133, 119, 155, 81, 95, 70, 110, 105, 145, 106, 118, 143, 149, 120, 159, 90, 108, 123, 85, 119, 70, 80, 164, 125, 185, 95, 116, 82, 86, 137, 75, 132, 150, 94, 112, 120, 147, 170, 116, 162, 92, 143, 101, 134, 135, 154, 107, 118, 139, 97, 122, 76, 74, 111, 125, 118, 135, 154, 148, 142, 82, 112, 89, 120, 130, 127, 104, 112, 147, 118, 81], \"coloraxis\": \"coloraxis\"}, \"name\": \"\", \"offsetgroup\": \"\", \"orientation\": \"v\", \"showlegend\": false, \"textposition\": \"auto\", \"type\": \"bar\", \"x\": [\"Oree\", \"Zaobian\", \"Platypet\", \"Platox\", \"Platimous\", \"Swali\", \"Loali\", \"Tateru\", \"Paharo\", \"Paharac\", \"Granpah\", \"Bunbun\", \"Mudrid\", \"Hidody\", \"Taifu\", \"Fomu\", \"Wiplump\", \"Skail\", \"Skunch\", \"Houchic\", \"Tental\", \"Orphyll\", \"Nidrasil\", \"Banapi\", \"Capyre\", \"Lapinite\", \"Azuroc\", \"Zenoreth\", \"Bigu\", \"Babawa\", \"Kaku\", \"Saku\", \"Valash\", \"Barnshe\", \"Gyalis\", \"Occlura\", \"Myx\", \"Raiber\", \"Raize\", \"Raican\", \"Pewki\", \"Piraniant\", \"Saipat\", \"Crystle\", \"Sherald\", \"Hocus\", \"Pocus\", \"Sparzy\", \"Mushi\", \"Mushook\", \"Magmis\", \"Mastione\", \"Umishi\", \"Ukama\", \"Smazee\", \"Baboong\", \"Spriole\", \"Deendre\", \"Cerneaf\", \"Toxolotl\", \"Noxolotl\", \"Blooze\", \"Goolder\", \"Zephyruff\", \"Volarend\", \"Ganki\", \"Gazuma\", \"Oceara\", \"Shuine\", \"Nessla\", \"Kalazu\", \"Kalabyss\", \"Adoroboros\", \"Tuwai\", \"Tuvine\", \"Kinu\", \"Vulvir\", \"Vulor\", \"Vulcrane\", \"Pigepic\", \"Anahir\"], \"xaxis\": \"x\", \"y\": [100, 135, 110, 124, 138, 85, 140, 138, 100, 120, 133, 119, 155, 81, 95, 70, 110, 105, 145, 106, 118, 143, 149, 120, 159, 90, 108, 123, 85, 119, 70, 80, 164, 125, 185, 95, 116, 82, 86, 137, 75, 132, 150, 94, 112, 120, 147, 170, 116, 162, 92, 143, 101, 134, 135, 154, 107, 118, 139, 97, 122, 76, 74, 111, 125, 118, 135, 154, 148, 142, 82, 112, 89, 120, 130, 127, 104, 112, 147, 118, 81], \"yaxis\": \"y\"}],\n",
       "                        {\"barmode\": \"relative\", \"coloraxis\": {\"colorbar\": {\"title\": {\"text\": \"color\"}}, \"colorscale\": [[0.0, \"#0d0887\"], [0.1111111111111111, \"#46039f\"], [0.2222222222222222, \"#7201a8\"], [0.3333333333333333, \"#9c179e\"], [0.4444444444444444, \"#bd3786\"], [0.5555555555555556, \"#d8576b\"], [0.6666666666666666, \"#ed7953\"], [0.7777777777777778, \"#fb9f3a\"], [0.8888888888888888, \"#fdca26\"], [1.0, \"#f0f921\"]]}, \"legend\": {\"tracegroupgap\": 0}, \"margin\": {\"t\": 60}, \"template\": {\"data\": {\"bar\": [{\"error_x\": {\"color\": \"#2a3f5f\"}, \"error_y\": {\"color\": \"#2a3f5f\"}, \"marker\": {\"line\": {\"color\": \"#E5ECF6\", \"width\": 0.5}}, \"type\": \"bar\"}], \"barpolar\": [{\"marker\": {\"line\": {\"color\": \"#E5ECF6\", \"width\": 0.5}}, \"type\": \"barpolar\"}], \"carpet\": [{\"aaxis\": {\"endlinecolor\": \"#2a3f5f\", \"gridcolor\": \"white\", \"linecolor\": \"white\", \"minorgridcolor\": \"white\", \"startlinecolor\": \"#2a3f5f\"}, \"baxis\": {\"endlinecolor\": \"#2a3f5f\", \"gridcolor\": \"white\", \"linecolor\": \"white\", \"minorgridcolor\": \"white\", \"startlinecolor\": \"#2a3f5f\"}, \"type\": \"carpet\"}], \"choropleth\": [{\"colorbar\": {\"outlinewidth\": 0, \"ticks\": \"\"}, \"type\": \"choropleth\"}], \"contour\": [{\"colorbar\": {\"outlinewidth\": 0, \"ticks\": \"\"}, \"colorscale\": [[0.0, \"#0d0887\"], [0.1111111111111111, \"#46039f\"], [0.2222222222222222, \"#7201a8\"], [0.3333333333333333, \"#9c179e\"], [0.4444444444444444, \"#bd3786\"], [0.5555555555555556, \"#d8576b\"], [0.6666666666666666, \"#ed7953\"], [0.7777777777777778, \"#fb9f3a\"], [0.8888888888888888, \"#fdca26\"], [1.0, \"#f0f921\"]], \"type\": \"contour\"}], \"contourcarpet\": [{\"colorbar\": {\"outlinewidth\": 0, \"ticks\": \"\"}, \"type\": \"contourcarpet\"}], \"heatmap\": [{\"colorbar\": {\"outlinewidth\": 0, \"ticks\": \"\"}, \"colorscale\": [[0.0, \"#0d0887\"], [0.1111111111111111, \"#46039f\"], [0.2222222222222222, \"#7201a8\"], [0.3333333333333333, \"#9c179e\"], [0.4444444444444444, \"#bd3786\"], [0.5555555555555556, \"#d8576b\"], [0.6666666666666666, \"#ed7953\"], [0.7777777777777778, \"#fb9f3a\"], [0.8888888888888888, \"#fdca26\"], [1.0, \"#f0f921\"]], \"type\": \"heatmap\"}], \"heatmapgl\": [{\"colorbar\": {\"outlinewidth\": 0, \"ticks\": \"\"}, \"colorscale\": [[0.0, \"#0d0887\"], [0.1111111111111111, \"#46039f\"], [0.2222222222222222, \"#7201a8\"], [0.3333333333333333, \"#9c179e\"], [0.4444444444444444, \"#bd3786\"], [0.5555555555555556, \"#d8576b\"], [0.6666666666666666, \"#ed7953\"], [0.7777777777777778, \"#fb9f3a\"], [0.8888888888888888, \"#fdca26\"], [1.0, \"#f0f921\"]], \"type\": \"heatmapgl\"}], \"histogram\": [{\"marker\": {\"colorbar\": {\"outlinewidth\": 0, \"ticks\": \"\"}}, \"type\": \"histogram\"}], \"histogram2d\": [{\"colorbar\": {\"outlinewidth\": 0, \"ticks\": \"\"}, \"colorscale\": [[0.0, \"#0d0887\"], [0.1111111111111111, \"#46039f\"], [0.2222222222222222, \"#7201a8\"], [0.3333333333333333, \"#9c179e\"], [0.4444444444444444, \"#bd3786\"], [0.5555555555555556, \"#d8576b\"], [0.6666666666666666, \"#ed7953\"], [0.7777777777777778, \"#fb9f3a\"], [0.8888888888888888, \"#fdca26\"], [1.0, \"#f0f921\"]], \"type\": \"histogram2d\"}], \"histogram2dcontour\": [{\"colorbar\": {\"outlinewidth\": 0, \"ticks\": \"\"}, \"colorscale\": [[0.0, \"#0d0887\"], [0.1111111111111111, \"#46039f\"], [0.2222222222222222, \"#7201a8\"], [0.3333333333333333, \"#9c179e\"], [0.4444444444444444, \"#bd3786\"], [0.5555555555555556, \"#d8576b\"], [0.6666666666666666, \"#ed7953\"], [0.7777777777777778, \"#fb9f3a\"], [0.8888888888888888, \"#fdca26\"], [1.0, \"#f0f921\"]], \"type\": \"histogram2dcontour\"}], \"mesh3d\": [{\"colorbar\": {\"outlinewidth\": 0, \"ticks\": \"\"}, \"type\": \"mesh3d\"}], \"parcoords\": [{\"line\": {\"colorbar\": {\"outlinewidth\": 0, \"ticks\": \"\"}}, \"type\": \"parcoords\"}], \"pie\": [{\"automargin\": true, \"type\": \"pie\"}], \"scatter\": [{\"marker\": {\"colorbar\": {\"outlinewidth\": 0, \"ticks\": \"\"}}, \"type\": \"scatter\"}], \"scatter3d\": [{\"line\": {\"colorbar\": {\"outlinewidth\": 0, \"ticks\": \"\"}}, \"marker\": {\"colorbar\": {\"outlinewidth\": 0, \"ticks\": \"\"}}, \"type\": \"scatter3d\"}], \"scattercarpet\": [{\"marker\": {\"colorbar\": {\"outlinewidth\": 0, \"ticks\": \"\"}}, \"type\": \"scattercarpet\"}], \"scattergeo\": [{\"marker\": {\"colorbar\": {\"outlinewidth\": 0, \"ticks\": \"\"}}, \"type\": \"scattergeo\"}], \"scattergl\": [{\"marker\": {\"colorbar\": {\"outlinewidth\": 0, \"ticks\": \"\"}}, \"type\": \"scattergl\"}], \"scattermapbox\": [{\"marker\": {\"colorbar\": {\"outlinewidth\": 0, \"ticks\": \"\"}}, \"type\": \"scattermapbox\"}], \"scatterpolar\": [{\"marker\": {\"colorbar\": {\"outlinewidth\": 0, \"ticks\": \"\"}}, \"type\": \"scatterpolar\"}], \"scatterpolargl\": [{\"marker\": {\"colorbar\": {\"outlinewidth\": 0, \"ticks\": \"\"}}, \"type\": \"scatterpolargl\"}], \"scatterternary\": [{\"marker\": {\"colorbar\": {\"outlinewidth\": 0, \"ticks\": \"\"}}, \"type\": \"scatterternary\"}], \"surface\": [{\"colorbar\": {\"outlinewidth\": 0, \"ticks\": \"\"}, \"colorscale\": [[0.0, \"#0d0887\"], [0.1111111111111111, \"#46039f\"], [0.2222222222222222, \"#7201a8\"], [0.3333333333333333, \"#9c179e\"], [0.4444444444444444, \"#bd3786\"], [0.5555555555555556, \"#d8576b\"], [0.6666666666666666, \"#ed7953\"], [0.7777777777777778, \"#fb9f3a\"], [0.8888888888888888, \"#fdca26\"], [1.0, \"#f0f921\"]], \"type\": \"surface\"}], \"table\": [{\"cells\": {\"fill\": {\"color\": \"#EBF0F8\"}, \"line\": {\"color\": \"white\"}}, \"header\": {\"fill\": {\"color\": \"#C8D4E3\"}, \"line\": {\"color\": \"white\"}}, \"type\": \"table\"}]}, \"layout\": {\"annotationdefaults\": {\"arrowcolor\": \"#2a3f5f\", \"arrowhead\": 0, \"arrowwidth\": 1}, \"coloraxis\": {\"colorbar\": {\"outlinewidth\": 0, \"ticks\": \"\"}}, \"colorscale\": {\"diverging\": [[0, \"#8e0152\"], [0.1, \"#c51b7d\"], [0.2, \"#de77ae\"], [0.3, \"#f1b6da\"], [0.4, \"#fde0ef\"], [0.5, \"#f7f7f7\"], [0.6, \"#e6f5d0\"], [0.7, \"#b8e186\"], [0.8, \"#7fbc41\"], [0.9, \"#4d9221\"], [1, \"#276419\"]], \"sequential\": [[0.0, \"#0d0887\"], [0.1111111111111111, \"#46039f\"], [0.2222222222222222, \"#7201a8\"], [0.3333333333333333, \"#9c179e\"], [0.4444444444444444, \"#bd3786\"], [0.5555555555555556, \"#d8576b\"], [0.6666666666666666, \"#ed7953\"], [0.7777777777777778, \"#fb9f3a\"], [0.8888888888888888, \"#fdca26\"], [1.0, \"#f0f921\"]], \"sequentialminus\": [[0.0, \"#0d0887\"], [0.1111111111111111, \"#46039f\"], [0.2222222222222222, \"#7201a8\"], [0.3333333333333333, \"#9c179e\"], [0.4444444444444444, \"#bd3786\"], [0.5555555555555556, \"#d8576b\"], [0.6666666666666666, \"#ed7953\"], [0.7777777777777778, \"#fb9f3a\"], [0.8888888888888888, \"#fdca26\"], [1.0, \"#f0f921\"]]}, \"colorway\": [\"#636efa\", \"#EF553B\", \"#00cc96\", \"#ab63fa\", \"#FFA15A\", \"#19d3f3\", \"#FF6692\", \"#B6E880\", \"#FF97FF\", \"#FECB52\"], \"font\": {\"color\": \"#2a3f5f\"}, \"geo\": {\"bgcolor\": \"white\", \"lakecolor\": \"white\", \"landcolor\": \"#E5ECF6\", \"showlakes\": true, \"showland\": true, \"subunitcolor\": \"white\"}, \"hoverlabel\": {\"align\": \"left\"}, \"hovermode\": \"closest\", \"mapbox\": {\"style\": \"light\"}, \"paper_bgcolor\": \"white\", \"plot_bgcolor\": \"#E5ECF6\", \"polar\": {\"angularaxis\": {\"gridcolor\": \"white\", \"linecolor\": \"white\", \"ticks\": \"\"}, \"bgcolor\": \"#E5ECF6\", \"radialaxis\": {\"gridcolor\": \"white\", \"linecolor\": \"white\", \"ticks\": \"\"}}, \"scene\": {\"xaxis\": {\"backgroundcolor\": \"#E5ECF6\", \"gridcolor\": \"white\", \"gridwidth\": 2, \"linecolor\": \"white\", \"showbackground\": true, \"ticks\": \"\", \"zerolinecolor\": \"white\"}, \"yaxis\": {\"backgroundcolor\": \"#E5ECF6\", \"gridcolor\": \"white\", \"gridwidth\": 2, \"linecolor\": \"white\", \"showbackground\": true, \"ticks\": \"\", \"zerolinecolor\": \"white\"}, \"zaxis\": {\"backgroundcolor\": \"#E5ECF6\", \"gridcolor\": \"white\", \"gridwidth\": 2, \"linecolor\": \"white\", \"showbackground\": true, \"ticks\": \"\", \"zerolinecolor\": \"white\"}}, \"shapedefaults\": {\"line\": {\"color\": \"#2a3f5f\"}}, \"ternary\": {\"aaxis\": {\"gridcolor\": \"white\", \"linecolor\": \"white\", \"ticks\": \"\"}, \"baxis\": {\"gridcolor\": \"white\", \"linecolor\": \"white\", \"ticks\": \"\"}, \"bgcolor\": \"#E5ECF6\", \"caxis\": {\"gridcolor\": \"white\", \"linecolor\": \"white\", \"ticks\": \"\"}}, \"title\": {\"x\": 0.05}, \"xaxis\": {\"automargin\": true, \"gridcolor\": \"white\", \"linecolor\": \"white\", \"ticks\": \"\", \"title\": {\"standoff\": 15}, \"zerolinecolor\": \"white\", \"zerolinewidth\": 2}, \"yaxis\": {\"automargin\": true, \"gridcolor\": \"white\", \"linecolor\": \"white\", \"ticks\": \"\", \"title\": {\"standoff\": 15}, \"zerolinecolor\": \"white\", \"zerolinewidth\": 2}}}, \"xaxis\": {\"anchor\": \"y\", \"domain\": [0.0, 1.0], \"title\": {\"text\": \"temtem\"}}, \"yaxis\": {\"anchor\": \"x\", \"domain\": [0.0, 1.0], \"title\": {\"text\": \"Atk + Spd\"}}},\n",
       "                        {\"responsive\": true}\n",
       "                    ).then(function(){\n",
       "                            \n",
       "var gd = document.getElementById('7bac15ad-e552-455f-939c-9a471e00953f');\n",
       "var x = new MutationObserver(function (mutations, observer) {{\n",
       "        var display = window.getComputedStyle(gd).display;\n",
       "        if (!display || display === 'none') {{\n",
       "            console.log([gd, 'removed!']);\n",
       "            Plotly.purge(gd);\n",
       "            observer.disconnect();\n",
       "        }}\n",
       "}});\n",
       "\n",
       "// Listen for the removal of the full notebook cells\n",
       "var notebookContainer = gd.closest('#notebook-container');\n",
       "if (notebookContainer) {{\n",
       "    x.observe(notebookContainer, {childList: true});\n",
       "}}\n",
       "\n",
       "// Listen for the clearing of the current output cell\n",
       "var outputEl = gd.closest('.output');\n",
       "if (outputEl) {{\n",
       "    x.observe(outputEl, {childList: true});\n",
       "}}\n",
       "\n",
       "                        })\n",
       "                };\n",
       "                });\n",
       "            </script>\n",
       "        </div>"
      ]
     },
     "metadata": {},
     "output_type": "display_data"
    }
   ],
   "source": [
    "fig.show()"
   ]
  },
  {
   "cell_type": "code",
   "execution_count": 66,
   "metadata": {},
   "outputs": [],
   "source": [
    "fig2 = px.bar(x = temtem,y = fastestspatk, color = fastestspatk, labels={'x':'temtem', 'y': 'SpAtk + Spd'})"
   ]
  },
  {
   "cell_type": "code",
   "execution_count": 67,
   "metadata": {},
   "outputs": [
    {
     "data": {
      "application/vnd.plotly.v1+json": {
       "config": {
        "plotlyServerURL": "https://plot.ly"
       },
       "data": [
        {
         "alignmentgroup": "True",
         "hovertemplate": "temtem=%{x}<br>SpAtk + Spd=%{y}<br>color=%{marker.color}<extra></extra>",
         "legendgroup": "",
         "marker": {
          "color": [
           67,
           93,
           132,
           150,
           172,
           90,
           150,
           114,
           110,
           130,
           150,
           133,
           175,
           101,
           130,
           105,
           165,
           92,
           120,
           138,
           157,
           102,
           97,
           110,
           133,
           101,
           110,
           121,
           61,
           91,
           95,
           106,
           164,
           140,
           123,
           88,
           159,
           101,
           109,
           111,
           64,
           120,
           140,
           79,
           94,
           120,
           155,
           127,
           116,
           130,
           82,
           114,
           143,
           176,
           103,
           116,
           102,
           112,
           122,
           112,
           146,
           79,
           78,
           118,
           142,
           123,
           148,
           210,
           153,
           136,
           66,
           102,
           130,
           118,
           121,
           143,
           104,
           112,
           137,
           103,
           81
          ],
          "coloraxis": "coloraxis"
         },
         "name": "",
         "offsetgroup": "",
         "orientation": "v",
         "showlegend": false,
         "textposition": "auto",
         "type": "bar",
         "x": [
          "Oree",
          "Zaobian",
          "Platypet",
          "Platox",
          "Platimous",
          "Swali",
          "Loali",
          "Tateru",
          "Paharo",
          "Paharac",
          "Granpah",
          "Bunbun",
          "Mudrid",
          "Hidody",
          "Taifu",
          "Fomu",
          "Wiplump",
          "Skail",
          "Skunch",
          "Houchic",
          "Tental",
          "Orphyll",
          "Nidrasil",
          "Banapi",
          "Capyre",
          "Lapinite",
          "Azuroc",
          "Zenoreth",
          "Bigu",
          "Babawa",
          "Kaku",
          "Saku",
          "Valash",
          "Barnshe",
          "Gyalis",
          "Occlura",
          "Myx",
          "Raiber",
          "Raize",
          "Raican",
          "Pewki",
          "Piraniant",
          "Saipat",
          "Crystle",
          "Sherald",
          "Hocus",
          "Pocus",
          "Sparzy",
          "Mushi",
          "Mushook",
          "Magmis",
          "Mastione",
          "Umishi",
          "Ukama",
          "Smazee",
          "Baboong",
          "Spriole",
          "Deendre",
          "Cerneaf",
          "Toxolotl",
          "Noxolotl",
          "Blooze",
          "Goolder",
          "Zephyruff",
          "Volarend",
          "Ganki",
          "Gazuma",
          "Oceara",
          "Shuine",
          "Nessla",
          "Kalazu",
          "Kalabyss",
          "Adoroboros",
          "Tuwai",
          "Tuvine",
          "Kinu",
          "Vulvir",
          "Vulor",
          "Vulcrane",
          "Pigepic",
          "Anahir"
         ],
         "xaxis": "x",
         "y": [
          67,
          93,
          132,
          150,
          172,
          90,
          150,
          114,
          110,
          130,
          150,
          133,
          175,
          101,
          130,
          105,
          165,
          92,
          120,
          138,
          157,
          102,
          97,
          110,
          133,
          101,
          110,
          121,
          61,
          91,
          95,
          106,
          164,
          140,
          123,
          88,
          159,
          101,
          109,
          111,
          64,
          120,
          140,
          79,
          94,
          120,
          155,
          127,
          116,
          130,
          82,
          114,
          143,
          176,
          103,
          116,
          102,
          112,
          122,
          112,
          146,
          79,
          78,
          118,
          142,
          123,
          148,
          210,
          153,
          136,
          66,
          102,
          130,
          118,
          121,
          143,
          104,
          112,
          137,
          103,
          81
         ],
         "yaxis": "y"
        }
       ],
       "layout": {
        "barmode": "relative",
        "coloraxis": {
         "colorbar": {
          "title": {
           "text": "color"
          }
         },
         "colorscale": [
          [
           0,
           "#0d0887"
          ],
          [
           0.1111111111111111,
           "#46039f"
          ],
          [
           0.2222222222222222,
           "#7201a8"
          ],
          [
           0.3333333333333333,
           "#9c179e"
          ],
          [
           0.4444444444444444,
           "#bd3786"
          ],
          [
           0.5555555555555556,
           "#d8576b"
          ],
          [
           0.6666666666666666,
           "#ed7953"
          ],
          [
           0.7777777777777778,
           "#fb9f3a"
          ],
          [
           0.8888888888888888,
           "#fdca26"
          ],
          [
           1,
           "#f0f921"
          ]
         ]
        },
        "legend": {
         "tracegroupgap": 0
        },
        "margin": {
         "t": 60
        },
        "template": {
         "data": {
          "bar": [
           {
            "error_x": {
             "color": "#2a3f5f"
            },
            "error_y": {
             "color": "#2a3f5f"
            },
            "marker": {
             "line": {
              "color": "#E5ECF6",
              "width": 0.5
             }
            },
            "type": "bar"
           }
          ],
          "barpolar": [
           {
            "marker": {
             "line": {
              "color": "#E5ECF6",
              "width": 0.5
             }
            },
            "type": "barpolar"
           }
          ],
          "carpet": [
           {
            "aaxis": {
             "endlinecolor": "#2a3f5f",
             "gridcolor": "white",
             "linecolor": "white",
             "minorgridcolor": "white",
             "startlinecolor": "#2a3f5f"
            },
            "baxis": {
             "endlinecolor": "#2a3f5f",
             "gridcolor": "white",
             "linecolor": "white",
             "minorgridcolor": "white",
             "startlinecolor": "#2a3f5f"
            },
            "type": "carpet"
           }
          ],
          "choropleth": [
           {
            "colorbar": {
             "outlinewidth": 0,
             "ticks": ""
            },
            "type": "choropleth"
           }
          ],
          "contour": [
           {
            "colorbar": {
             "outlinewidth": 0,
             "ticks": ""
            },
            "colorscale": [
             [
              0,
              "#0d0887"
             ],
             [
              0.1111111111111111,
              "#46039f"
             ],
             [
              0.2222222222222222,
              "#7201a8"
             ],
             [
              0.3333333333333333,
              "#9c179e"
             ],
             [
              0.4444444444444444,
              "#bd3786"
             ],
             [
              0.5555555555555556,
              "#d8576b"
             ],
             [
              0.6666666666666666,
              "#ed7953"
             ],
             [
              0.7777777777777778,
              "#fb9f3a"
             ],
             [
              0.8888888888888888,
              "#fdca26"
             ],
             [
              1,
              "#f0f921"
             ]
            ],
            "type": "contour"
           }
          ],
          "contourcarpet": [
           {
            "colorbar": {
             "outlinewidth": 0,
             "ticks": ""
            },
            "type": "contourcarpet"
           }
          ],
          "heatmap": [
           {
            "colorbar": {
             "outlinewidth": 0,
             "ticks": ""
            },
            "colorscale": [
             [
              0,
              "#0d0887"
             ],
             [
              0.1111111111111111,
              "#46039f"
             ],
             [
              0.2222222222222222,
              "#7201a8"
             ],
             [
              0.3333333333333333,
              "#9c179e"
             ],
             [
              0.4444444444444444,
              "#bd3786"
             ],
             [
              0.5555555555555556,
              "#d8576b"
             ],
             [
              0.6666666666666666,
              "#ed7953"
             ],
             [
              0.7777777777777778,
              "#fb9f3a"
             ],
             [
              0.8888888888888888,
              "#fdca26"
             ],
             [
              1,
              "#f0f921"
             ]
            ],
            "type": "heatmap"
           }
          ],
          "heatmapgl": [
           {
            "colorbar": {
             "outlinewidth": 0,
             "ticks": ""
            },
            "colorscale": [
             [
              0,
              "#0d0887"
             ],
             [
              0.1111111111111111,
              "#46039f"
             ],
             [
              0.2222222222222222,
              "#7201a8"
             ],
             [
              0.3333333333333333,
              "#9c179e"
             ],
             [
              0.4444444444444444,
              "#bd3786"
             ],
             [
              0.5555555555555556,
              "#d8576b"
             ],
             [
              0.6666666666666666,
              "#ed7953"
             ],
             [
              0.7777777777777778,
              "#fb9f3a"
             ],
             [
              0.8888888888888888,
              "#fdca26"
             ],
             [
              1,
              "#f0f921"
             ]
            ],
            "type": "heatmapgl"
           }
          ],
          "histogram": [
           {
            "marker": {
             "colorbar": {
              "outlinewidth": 0,
              "ticks": ""
             }
            },
            "type": "histogram"
           }
          ],
          "histogram2d": [
           {
            "colorbar": {
             "outlinewidth": 0,
             "ticks": ""
            },
            "colorscale": [
             [
              0,
              "#0d0887"
             ],
             [
              0.1111111111111111,
              "#46039f"
             ],
             [
              0.2222222222222222,
              "#7201a8"
             ],
             [
              0.3333333333333333,
              "#9c179e"
             ],
             [
              0.4444444444444444,
              "#bd3786"
             ],
             [
              0.5555555555555556,
              "#d8576b"
             ],
             [
              0.6666666666666666,
              "#ed7953"
             ],
             [
              0.7777777777777778,
              "#fb9f3a"
             ],
             [
              0.8888888888888888,
              "#fdca26"
             ],
             [
              1,
              "#f0f921"
             ]
            ],
            "type": "histogram2d"
           }
          ],
          "histogram2dcontour": [
           {
            "colorbar": {
             "outlinewidth": 0,
             "ticks": ""
            },
            "colorscale": [
             [
              0,
              "#0d0887"
             ],
             [
              0.1111111111111111,
              "#46039f"
             ],
             [
              0.2222222222222222,
              "#7201a8"
             ],
             [
              0.3333333333333333,
              "#9c179e"
             ],
             [
              0.4444444444444444,
              "#bd3786"
             ],
             [
              0.5555555555555556,
              "#d8576b"
             ],
             [
              0.6666666666666666,
              "#ed7953"
             ],
             [
              0.7777777777777778,
              "#fb9f3a"
             ],
             [
              0.8888888888888888,
              "#fdca26"
             ],
             [
              1,
              "#f0f921"
             ]
            ],
            "type": "histogram2dcontour"
           }
          ],
          "mesh3d": [
           {
            "colorbar": {
             "outlinewidth": 0,
             "ticks": ""
            },
            "type": "mesh3d"
           }
          ],
          "parcoords": [
           {
            "line": {
             "colorbar": {
              "outlinewidth": 0,
              "ticks": ""
             }
            },
            "type": "parcoords"
           }
          ],
          "pie": [
           {
            "automargin": true,
            "type": "pie"
           }
          ],
          "scatter": [
           {
            "marker": {
             "colorbar": {
              "outlinewidth": 0,
              "ticks": ""
             }
            },
            "type": "scatter"
           }
          ],
          "scatter3d": [
           {
            "line": {
             "colorbar": {
              "outlinewidth": 0,
              "ticks": ""
             }
            },
            "marker": {
             "colorbar": {
              "outlinewidth": 0,
              "ticks": ""
             }
            },
            "type": "scatter3d"
           }
          ],
          "scattercarpet": [
           {
            "marker": {
             "colorbar": {
              "outlinewidth": 0,
              "ticks": ""
             }
            },
            "type": "scattercarpet"
           }
          ],
          "scattergeo": [
           {
            "marker": {
             "colorbar": {
              "outlinewidth": 0,
              "ticks": ""
             }
            },
            "type": "scattergeo"
           }
          ],
          "scattergl": [
           {
            "marker": {
             "colorbar": {
              "outlinewidth": 0,
              "ticks": ""
             }
            },
            "type": "scattergl"
           }
          ],
          "scattermapbox": [
           {
            "marker": {
             "colorbar": {
              "outlinewidth": 0,
              "ticks": ""
             }
            },
            "type": "scattermapbox"
           }
          ],
          "scatterpolar": [
           {
            "marker": {
             "colorbar": {
              "outlinewidth": 0,
              "ticks": ""
             }
            },
            "type": "scatterpolar"
           }
          ],
          "scatterpolargl": [
           {
            "marker": {
             "colorbar": {
              "outlinewidth": 0,
              "ticks": ""
             }
            },
            "type": "scatterpolargl"
           }
          ],
          "scatterternary": [
           {
            "marker": {
             "colorbar": {
              "outlinewidth": 0,
              "ticks": ""
             }
            },
            "type": "scatterternary"
           }
          ],
          "surface": [
           {
            "colorbar": {
             "outlinewidth": 0,
             "ticks": ""
            },
            "colorscale": [
             [
              0,
              "#0d0887"
             ],
             [
              0.1111111111111111,
              "#46039f"
             ],
             [
              0.2222222222222222,
              "#7201a8"
             ],
             [
              0.3333333333333333,
              "#9c179e"
             ],
             [
              0.4444444444444444,
              "#bd3786"
             ],
             [
              0.5555555555555556,
              "#d8576b"
             ],
             [
              0.6666666666666666,
              "#ed7953"
             ],
             [
              0.7777777777777778,
              "#fb9f3a"
             ],
             [
              0.8888888888888888,
              "#fdca26"
             ],
             [
              1,
              "#f0f921"
             ]
            ],
            "type": "surface"
           }
          ],
          "table": [
           {
            "cells": {
             "fill": {
              "color": "#EBF0F8"
             },
             "line": {
              "color": "white"
             }
            },
            "header": {
             "fill": {
              "color": "#C8D4E3"
             },
             "line": {
              "color": "white"
             }
            },
            "type": "table"
           }
          ]
         },
         "layout": {
          "annotationdefaults": {
           "arrowcolor": "#2a3f5f",
           "arrowhead": 0,
           "arrowwidth": 1
          },
          "coloraxis": {
           "colorbar": {
            "outlinewidth": 0,
            "ticks": ""
           }
          },
          "colorscale": {
           "diverging": [
            [
             0,
             "#8e0152"
            ],
            [
             0.1,
             "#c51b7d"
            ],
            [
             0.2,
             "#de77ae"
            ],
            [
             0.3,
             "#f1b6da"
            ],
            [
             0.4,
             "#fde0ef"
            ],
            [
             0.5,
             "#f7f7f7"
            ],
            [
             0.6,
             "#e6f5d0"
            ],
            [
             0.7,
             "#b8e186"
            ],
            [
             0.8,
             "#7fbc41"
            ],
            [
             0.9,
             "#4d9221"
            ],
            [
             1,
             "#276419"
            ]
           ],
           "sequential": [
            [
             0,
             "#0d0887"
            ],
            [
             0.1111111111111111,
             "#46039f"
            ],
            [
             0.2222222222222222,
             "#7201a8"
            ],
            [
             0.3333333333333333,
             "#9c179e"
            ],
            [
             0.4444444444444444,
             "#bd3786"
            ],
            [
             0.5555555555555556,
             "#d8576b"
            ],
            [
             0.6666666666666666,
             "#ed7953"
            ],
            [
             0.7777777777777778,
             "#fb9f3a"
            ],
            [
             0.8888888888888888,
             "#fdca26"
            ],
            [
             1,
             "#f0f921"
            ]
           ],
           "sequentialminus": [
            [
             0,
             "#0d0887"
            ],
            [
             0.1111111111111111,
             "#46039f"
            ],
            [
             0.2222222222222222,
             "#7201a8"
            ],
            [
             0.3333333333333333,
             "#9c179e"
            ],
            [
             0.4444444444444444,
             "#bd3786"
            ],
            [
             0.5555555555555556,
             "#d8576b"
            ],
            [
             0.6666666666666666,
             "#ed7953"
            ],
            [
             0.7777777777777778,
             "#fb9f3a"
            ],
            [
             0.8888888888888888,
             "#fdca26"
            ],
            [
             1,
             "#f0f921"
            ]
           ]
          },
          "colorway": [
           "#636efa",
           "#EF553B",
           "#00cc96",
           "#ab63fa",
           "#FFA15A",
           "#19d3f3",
           "#FF6692",
           "#B6E880",
           "#FF97FF",
           "#FECB52"
          ],
          "font": {
           "color": "#2a3f5f"
          },
          "geo": {
           "bgcolor": "white",
           "lakecolor": "white",
           "landcolor": "#E5ECF6",
           "showlakes": true,
           "showland": true,
           "subunitcolor": "white"
          },
          "hoverlabel": {
           "align": "left"
          },
          "hovermode": "closest",
          "mapbox": {
           "style": "light"
          },
          "paper_bgcolor": "white",
          "plot_bgcolor": "#E5ECF6",
          "polar": {
           "angularaxis": {
            "gridcolor": "white",
            "linecolor": "white",
            "ticks": ""
           },
           "bgcolor": "#E5ECF6",
           "radialaxis": {
            "gridcolor": "white",
            "linecolor": "white",
            "ticks": ""
           }
          },
          "scene": {
           "xaxis": {
            "backgroundcolor": "#E5ECF6",
            "gridcolor": "white",
            "gridwidth": 2,
            "linecolor": "white",
            "showbackground": true,
            "ticks": "",
            "zerolinecolor": "white"
           },
           "yaxis": {
            "backgroundcolor": "#E5ECF6",
            "gridcolor": "white",
            "gridwidth": 2,
            "linecolor": "white",
            "showbackground": true,
            "ticks": "",
            "zerolinecolor": "white"
           },
           "zaxis": {
            "backgroundcolor": "#E5ECF6",
            "gridcolor": "white",
            "gridwidth": 2,
            "linecolor": "white",
            "showbackground": true,
            "ticks": "",
            "zerolinecolor": "white"
           }
          },
          "shapedefaults": {
           "line": {
            "color": "#2a3f5f"
           }
          },
          "ternary": {
           "aaxis": {
            "gridcolor": "white",
            "linecolor": "white",
            "ticks": ""
           },
           "baxis": {
            "gridcolor": "white",
            "linecolor": "white",
            "ticks": ""
           },
           "bgcolor": "#E5ECF6",
           "caxis": {
            "gridcolor": "white",
            "linecolor": "white",
            "ticks": ""
           }
          },
          "title": {
           "x": 0.05
          },
          "xaxis": {
           "automargin": true,
           "gridcolor": "white",
           "linecolor": "white",
           "ticks": "",
           "title": {
            "standoff": 15
           },
           "zerolinecolor": "white",
           "zerolinewidth": 2
          },
          "yaxis": {
           "automargin": true,
           "gridcolor": "white",
           "linecolor": "white",
           "ticks": "",
           "title": {
            "standoff": 15
           },
           "zerolinecolor": "white",
           "zerolinewidth": 2
          }
         }
        },
        "xaxis": {
         "anchor": "y",
         "domain": [
          0,
          1
         ],
         "title": {
          "text": "temtem"
         }
        },
        "yaxis": {
         "anchor": "x",
         "domain": [
          0,
          1
         ],
         "title": {
          "text": "SpAtk + Spd"
         }
        }
       }
      },
      "text/html": [
       "<div>\n",
       "        \n",
       "        \n",
       "            <div id=\"fcb432a5-e1ea-471e-9381-e1094caca265\" class=\"plotly-graph-div\" style=\"height:525px; width:100%;\"></div>\n",
       "            <script type=\"text/javascript\">\n",
       "                require([\"plotly\"], function(Plotly) {\n",
       "                    window.PLOTLYENV=window.PLOTLYENV || {};\n",
       "                    \n",
       "                if (document.getElementById(\"fcb432a5-e1ea-471e-9381-e1094caca265\")) {\n",
       "                    Plotly.newPlot(\n",
       "                        'fcb432a5-e1ea-471e-9381-e1094caca265',\n",
       "                        [{\"alignmentgroup\": \"True\", \"hovertemplate\": \"temtem=%{x}<br>SpAtk + Spd=%{y}<br>color=%{marker.color}<extra></extra>\", \"legendgroup\": \"\", \"marker\": {\"color\": [67, 93, 132, 150, 172, 90, 150, 114, 110, 130, 150, 133, 175, 101, 130, 105, 165, 92, 120, 138, 157, 102, 97, 110, 133, 101, 110, 121, 61, 91, 95, 106, 164, 140, 123, 88, 159, 101, 109, 111, 64, 120, 140, 79, 94, 120, 155, 127, 116, 130, 82, 114, 143, 176, 103, 116, 102, 112, 122, 112, 146, 79, 78, 118, 142, 123, 148, 210, 153, 136, 66, 102, 130, 118, 121, 143, 104, 112, 137, 103, 81], \"coloraxis\": \"coloraxis\"}, \"name\": \"\", \"offsetgroup\": \"\", \"orientation\": \"v\", \"showlegend\": false, \"textposition\": \"auto\", \"type\": \"bar\", \"x\": [\"Oree\", \"Zaobian\", \"Platypet\", \"Platox\", \"Platimous\", \"Swali\", \"Loali\", \"Tateru\", \"Paharo\", \"Paharac\", \"Granpah\", \"Bunbun\", \"Mudrid\", \"Hidody\", \"Taifu\", \"Fomu\", \"Wiplump\", \"Skail\", \"Skunch\", \"Houchic\", \"Tental\", \"Orphyll\", \"Nidrasil\", \"Banapi\", \"Capyre\", \"Lapinite\", \"Azuroc\", \"Zenoreth\", \"Bigu\", \"Babawa\", \"Kaku\", \"Saku\", \"Valash\", \"Barnshe\", \"Gyalis\", \"Occlura\", \"Myx\", \"Raiber\", \"Raize\", \"Raican\", \"Pewki\", \"Piraniant\", \"Saipat\", \"Crystle\", \"Sherald\", \"Hocus\", \"Pocus\", \"Sparzy\", \"Mushi\", \"Mushook\", \"Magmis\", \"Mastione\", \"Umishi\", \"Ukama\", \"Smazee\", \"Baboong\", \"Spriole\", \"Deendre\", \"Cerneaf\", \"Toxolotl\", \"Noxolotl\", \"Blooze\", \"Goolder\", \"Zephyruff\", \"Volarend\", \"Ganki\", \"Gazuma\", \"Oceara\", \"Shuine\", \"Nessla\", \"Kalazu\", \"Kalabyss\", \"Adoroboros\", \"Tuwai\", \"Tuvine\", \"Kinu\", \"Vulvir\", \"Vulor\", \"Vulcrane\", \"Pigepic\", \"Anahir\"], \"xaxis\": \"x\", \"y\": [67, 93, 132, 150, 172, 90, 150, 114, 110, 130, 150, 133, 175, 101, 130, 105, 165, 92, 120, 138, 157, 102, 97, 110, 133, 101, 110, 121, 61, 91, 95, 106, 164, 140, 123, 88, 159, 101, 109, 111, 64, 120, 140, 79, 94, 120, 155, 127, 116, 130, 82, 114, 143, 176, 103, 116, 102, 112, 122, 112, 146, 79, 78, 118, 142, 123, 148, 210, 153, 136, 66, 102, 130, 118, 121, 143, 104, 112, 137, 103, 81], \"yaxis\": \"y\"}],\n",
       "                        {\"barmode\": \"relative\", \"coloraxis\": {\"colorbar\": {\"title\": {\"text\": \"color\"}}, \"colorscale\": [[0.0, \"#0d0887\"], [0.1111111111111111, \"#46039f\"], [0.2222222222222222, \"#7201a8\"], [0.3333333333333333, \"#9c179e\"], [0.4444444444444444, \"#bd3786\"], [0.5555555555555556, \"#d8576b\"], [0.6666666666666666, \"#ed7953\"], [0.7777777777777778, \"#fb9f3a\"], [0.8888888888888888, \"#fdca26\"], [1.0, \"#f0f921\"]]}, \"legend\": {\"tracegroupgap\": 0}, \"margin\": {\"t\": 60}, \"template\": {\"data\": {\"bar\": [{\"error_x\": {\"color\": \"#2a3f5f\"}, \"error_y\": {\"color\": \"#2a3f5f\"}, \"marker\": {\"line\": {\"color\": \"#E5ECF6\", \"width\": 0.5}}, \"type\": \"bar\"}], \"barpolar\": [{\"marker\": {\"line\": {\"color\": \"#E5ECF6\", \"width\": 0.5}}, \"type\": \"barpolar\"}], \"carpet\": [{\"aaxis\": {\"endlinecolor\": \"#2a3f5f\", \"gridcolor\": \"white\", \"linecolor\": \"white\", \"minorgridcolor\": \"white\", \"startlinecolor\": \"#2a3f5f\"}, \"baxis\": {\"endlinecolor\": \"#2a3f5f\", \"gridcolor\": \"white\", \"linecolor\": \"white\", \"minorgridcolor\": \"white\", \"startlinecolor\": \"#2a3f5f\"}, \"type\": \"carpet\"}], \"choropleth\": [{\"colorbar\": {\"outlinewidth\": 0, \"ticks\": \"\"}, \"type\": \"choropleth\"}], \"contour\": [{\"colorbar\": {\"outlinewidth\": 0, \"ticks\": \"\"}, \"colorscale\": [[0.0, \"#0d0887\"], [0.1111111111111111, \"#46039f\"], [0.2222222222222222, \"#7201a8\"], [0.3333333333333333, \"#9c179e\"], [0.4444444444444444, \"#bd3786\"], [0.5555555555555556, \"#d8576b\"], [0.6666666666666666, \"#ed7953\"], [0.7777777777777778, \"#fb9f3a\"], [0.8888888888888888, \"#fdca26\"], [1.0, \"#f0f921\"]], \"type\": \"contour\"}], \"contourcarpet\": [{\"colorbar\": {\"outlinewidth\": 0, \"ticks\": \"\"}, \"type\": \"contourcarpet\"}], \"heatmap\": [{\"colorbar\": {\"outlinewidth\": 0, \"ticks\": \"\"}, \"colorscale\": [[0.0, \"#0d0887\"], [0.1111111111111111, \"#46039f\"], [0.2222222222222222, \"#7201a8\"], [0.3333333333333333, \"#9c179e\"], [0.4444444444444444, \"#bd3786\"], [0.5555555555555556, \"#d8576b\"], [0.6666666666666666, \"#ed7953\"], [0.7777777777777778, \"#fb9f3a\"], [0.8888888888888888, \"#fdca26\"], [1.0, \"#f0f921\"]], \"type\": \"heatmap\"}], \"heatmapgl\": [{\"colorbar\": {\"outlinewidth\": 0, \"ticks\": \"\"}, \"colorscale\": [[0.0, \"#0d0887\"], [0.1111111111111111, \"#46039f\"], [0.2222222222222222, \"#7201a8\"], [0.3333333333333333, \"#9c179e\"], [0.4444444444444444, \"#bd3786\"], [0.5555555555555556, \"#d8576b\"], [0.6666666666666666, \"#ed7953\"], [0.7777777777777778, \"#fb9f3a\"], [0.8888888888888888, \"#fdca26\"], [1.0, \"#f0f921\"]], \"type\": \"heatmapgl\"}], \"histogram\": [{\"marker\": {\"colorbar\": {\"outlinewidth\": 0, \"ticks\": \"\"}}, \"type\": \"histogram\"}], \"histogram2d\": [{\"colorbar\": {\"outlinewidth\": 0, \"ticks\": \"\"}, \"colorscale\": [[0.0, \"#0d0887\"], [0.1111111111111111, \"#46039f\"], [0.2222222222222222, \"#7201a8\"], [0.3333333333333333, \"#9c179e\"], [0.4444444444444444, \"#bd3786\"], [0.5555555555555556, \"#d8576b\"], [0.6666666666666666, \"#ed7953\"], [0.7777777777777778, \"#fb9f3a\"], [0.8888888888888888, \"#fdca26\"], [1.0, \"#f0f921\"]], \"type\": \"histogram2d\"}], \"histogram2dcontour\": [{\"colorbar\": {\"outlinewidth\": 0, \"ticks\": \"\"}, \"colorscale\": [[0.0, \"#0d0887\"], [0.1111111111111111, \"#46039f\"], [0.2222222222222222, \"#7201a8\"], [0.3333333333333333, \"#9c179e\"], [0.4444444444444444, \"#bd3786\"], [0.5555555555555556, \"#d8576b\"], [0.6666666666666666, \"#ed7953\"], [0.7777777777777778, \"#fb9f3a\"], [0.8888888888888888, \"#fdca26\"], [1.0, \"#f0f921\"]], \"type\": \"histogram2dcontour\"}], \"mesh3d\": [{\"colorbar\": {\"outlinewidth\": 0, \"ticks\": \"\"}, \"type\": \"mesh3d\"}], \"parcoords\": [{\"line\": {\"colorbar\": {\"outlinewidth\": 0, \"ticks\": \"\"}}, \"type\": \"parcoords\"}], \"pie\": [{\"automargin\": true, \"type\": \"pie\"}], \"scatter\": [{\"marker\": {\"colorbar\": {\"outlinewidth\": 0, \"ticks\": \"\"}}, \"type\": \"scatter\"}], \"scatter3d\": [{\"line\": {\"colorbar\": {\"outlinewidth\": 0, \"ticks\": \"\"}}, \"marker\": {\"colorbar\": {\"outlinewidth\": 0, \"ticks\": \"\"}}, \"type\": \"scatter3d\"}], \"scattercarpet\": [{\"marker\": {\"colorbar\": {\"outlinewidth\": 0, \"ticks\": \"\"}}, \"type\": \"scattercarpet\"}], \"scattergeo\": [{\"marker\": {\"colorbar\": {\"outlinewidth\": 0, \"ticks\": \"\"}}, \"type\": \"scattergeo\"}], \"scattergl\": [{\"marker\": {\"colorbar\": {\"outlinewidth\": 0, \"ticks\": \"\"}}, \"type\": \"scattergl\"}], \"scattermapbox\": [{\"marker\": {\"colorbar\": {\"outlinewidth\": 0, \"ticks\": \"\"}}, \"type\": \"scattermapbox\"}], \"scatterpolar\": [{\"marker\": {\"colorbar\": {\"outlinewidth\": 0, \"ticks\": \"\"}}, \"type\": \"scatterpolar\"}], \"scatterpolargl\": [{\"marker\": {\"colorbar\": {\"outlinewidth\": 0, \"ticks\": \"\"}}, \"type\": \"scatterpolargl\"}], \"scatterternary\": [{\"marker\": {\"colorbar\": {\"outlinewidth\": 0, \"ticks\": \"\"}}, \"type\": \"scatterternary\"}], \"surface\": [{\"colorbar\": {\"outlinewidth\": 0, \"ticks\": \"\"}, \"colorscale\": [[0.0, \"#0d0887\"], [0.1111111111111111, \"#46039f\"], [0.2222222222222222, \"#7201a8\"], [0.3333333333333333, \"#9c179e\"], [0.4444444444444444, \"#bd3786\"], [0.5555555555555556, \"#d8576b\"], [0.6666666666666666, \"#ed7953\"], [0.7777777777777778, \"#fb9f3a\"], [0.8888888888888888, \"#fdca26\"], [1.0, \"#f0f921\"]], \"type\": \"surface\"}], \"table\": [{\"cells\": {\"fill\": {\"color\": \"#EBF0F8\"}, \"line\": {\"color\": \"white\"}}, \"header\": {\"fill\": {\"color\": \"#C8D4E3\"}, \"line\": {\"color\": \"white\"}}, \"type\": \"table\"}]}, \"layout\": {\"annotationdefaults\": {\"arrowcolor\": \"#2a3f5f\", \"arrowhead\": 0, \"arrowwidth\": 1}, \"coloraxis\": {\"colorbar\": {\"outlinewidth\": 0, \"ticks\": \"\"}}, \"colorscale\": {\"diverging\": [[0, \"#8e0152\"], [0.1, \"#c51b7d\"], [0.2, \"#de77ae\"], [0.3, \"#f1b6da\"], [0.4, \"#fde0ef\"], [0.5, \"#f7f7f7\"], [0.6, \"#e6f5d0\"], [0.7, \"#b8e186\"], [0.8, \"#7fbc41\"], [0.9, \"#4d9221\"], [1, \"#276419\"]], \"sequential\": [[0.0, \"#0d0887\"], [0.1111111111111111, \"#46039f\"], [0.2222222222222222, \"#7201a8\"], [0.3333333333333333, \"#9c179e\"], [0.4444444444444444, \"#bd3786\"], [0.5555555555555556, \"#d8576b\"], [0.6666666666666666, \"#ed7953\"], [0.7777777777777778, \"#fb9f3a\"], [0.8888888888888888, \"#fdca26\"], [1.0, \"#f0f921\"]], \"sequentialminus\": [[0.0, \"#0d0887\"], [0.1111111111111111, \"#46039f\"], [0.2222222222222222, \"#7201a8\"], [0.3333333333333333, \"#9c179e\"], [0.4444444444444444, \"#bd3786\"], [0.5555555555555556, \"#d8576b\"], [0.6666666666666666, \"#ed7953\"], [0.7777777777777778, \"#fb9f3a\"], [0.8888888888888888, \"#fdca26\"], [1.0, \"#f0f921\"]]}, \"colorway\": [\"#636efa\", \"#EF553B\", \"#00cc96\", \"#ab63fa\", \"#FFA15A\", \"#19d3f3\", \"#FF6692\", \"#B6E880\", \"#FF97FF\", \"#FECB52\"], \"font\": {\"color\": \"#2a3f5f\"}, \"geo\": {\"bgcolor\": \"white\", \"lakecolor\": \"white\", \"landcolor\": \"#E5ECF6\", \"showlakes\": true, \"showland\": true, \"subunitcolor\": \"white\"}, \"hoverlabel\": {\"align\": \"left\"}, \"hovermode\": \"closest\", \"mapbox\": {\"style\": \"light\"}, \"paper_bgcolor\": \"white\", \"plot_bgcolor\": \"#E5ECF6\", \"polar\": {\"angularaxis\": {\"gridcolor\": \"white\", \"linecolor\": \"white\", \"ticks\": \"\"}, \"bgcolor\": \"#E5ECF6\", \"radialaxis\": {\"gridcolor\": \"white\", \"linecolor\": \"white\", \"ticks\": \"\"}}, \"scene\": {\"xaxis\": {\"backgroundcolor\": \"#E5ECF6\", \"gridcolor\": \"white\", \"gridwidth\": 2, \"linecolor\": \"white\", \"showbackground\": true, \"ticks\": \"\", \"zerolinecolor\": \"white\"}, \"yaxis\": {\"backgroundcolor\": \"#E5ECF6\", \"gridcolor\": \"white\", \"gridwidth\": 2, \"linecolor\": \"white\", \"showbackground\": true, \"ticks\": \"\", \"zerolinecolor\": \"white\"}, \"zaxis\": {\"backgroundcolor\": \"#E5ECF6\", \"gridcolor\": \"white\", \"gridwidth\": 2, \"linecolor\": \"white\", \"showbackground\": true, \"ticks\": \"\", \"zerolinecolor\": \"white\"}}, \"shapedefaults\": {\"line\": {\"color\": \"#2a3f5f\"}}, \"ternary\": {\"aaxis\": {\"gridcolor\": \"white\", \"linecolor\": \"white\", \"ticks\": \"\"}, \"baxis\": {\"gridcolor\": \"white\", \"linecolor\": \"white\", \"ticks\": \"\"}, \"bgcolor\": \"#E5ECF6\", \"caxis\": {\"gridcolor\": \"white\", \"linecolor\": \"white\", \"ticks\": \"\"}}, \"title\": {\"x\": 0.05}, \"xaxis\": {\"automargin\": true, \"gridcolor\": \"white\", \"linecolor\": \"white\", \"ticks\": \"\", \"title\": {\"standoff\": 15}, \"zerolinecolor\": \"white\", \"zerolinewidth\": 2}, \"yaxis\": {\"automargin\": true, \"gridcolor\": \"white\", \"linecolor\": \"white\", \"ticks\": \"\", \"title\": {\"standoff\": 15}, \"zerolinecolor\": \"white\", \"zerolinewidth\": 2}}}, \"xaxis\": {\"anchor\": \"y\", \"domain\": [0.0, 1.0], \"title\": {\"text\": \"temtem\"}}, \"yaxis\": {\"anchor\": \"x\", \"domain\": [0.0, 1.0], \"title\": {\"text\": \"SpAtk + Spd\"}}},\n",
       "                        {\"responsive\": true}\n",
       "                    ).then(function(){\n",
       "                            \n",
       "var gd = document.getElementById('fcb432a5-e1ea-471e-9381-e1094caca265');\n",
       "var x = new MutationObserver(function (mutations, observer) {{\n",
       "        var display = window.getComputedStyle(gd).display;\n",
       "        if (!display || display === 'none') {{\n",
       "            console.log([gd, 'removed!']);\n",
       "            Plotly.purge(gd);\n",
       "            observer.disconnect();\n",
       "        }}\n",
       "}});\n",
       "\n",
       "// Listen for the removal of the full notebook cells\n",
       "var notebookContainer = gd.closest('#notebook-container');\n",
       "if (notebookContainer) {{\n",
       "    x.observe(notebookContainer, {childList: true});\n",
       "}}\n",
       "\n",
       "// Listen for the clearing of the current output cell\n",
       "var outputEl = gd.closest('.output');\n",
       "if (outputEl) {{\n",
       "    x.observe(outputEl, {childList: true});\n",
       "}}\n",
       "\n",
       "                        })\n",
       "                };\n",
       "                });\n",
       "            </script>\n",
       "        </div>"
      ]
     },
     "metadata": {},
     "output_type": "display_data"
    }
   ],
   "source": [
    "fig2.show()"
   ]
  },
  {
   "cell_type": "code",
   "execution_count": null,
   "metadata": {},
   "outputs": [],
   "source": []
  }
 ],
 "metadata": {
  "kernelspec": {
   "display_name": "Python 3",
   "language": "python",
   "name": "python3"
  },
  "language_info": {
   "codemirror_mode": {
    "name": "ipython",
    "version": 3
   },
   "file_extension": ".py",
   "mimetype": "text/x-python",
   "name": "python",
   "nbconvert_exporter": "python",
   "pygments_lexer": "ipython3",
   "version": "3.7.4"
  }
 },
 "nbformat": 4,
 "nbformat_minor": 2
}
